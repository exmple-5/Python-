{
 "cells": [
  {
   "cell_type": "code",
   "execution_count": 1,
   "id": "b19a4dfe",
   "metadata": {},
   "outputs": [],
   "source": [
    "import pandas as pd\n",
    "import matplotlib.pyplot as plt\n",
    "import seaborn as sns\n",
    "from statsmodels.graphics.regressionplots import influence_plot\n",
    "import statsmodels.formula.api as smf\n",
    "import numpy as np"
   ]
  },
  {
   "cell_type": "code",
   "execution_count": 2,
   "id": "8e2dd17e",
   "metadata": {},
   "outputs": [
    {
     "name": "stdout",
     "output_type": "stream",
     "text": [
      "   HP        MPG  VOL          SP         WT\n",
      "0  49  53.700681   89  104.185353  28.762059\n",
      "1  55  50.013401   92  105.461264  30.466833\n",
      "2  55  50.013401   92  105.461264  30.193597\n",
      "3  70  45.696322   92  113.461264  30.632114\n",
      "4  53  50.504232   92  104.461264  29.889149\n"
     ]
    }
   ],
   "source": [
    "import pandas as pd\n",
    "\n",
    "# Specify the full path to your CSV file\n",
    "file_path = r\"C:\\Users\\bhavy\\Downloads\\Cars.csv\"\n",
    "\n",
    "# Read the CSV file into a pandas DataFrame\n",
    "df = pd.read_csv(file_path)\n",
    "\n",
    "# Display the first few rows of the DataFrame to confirm the data\n",
    "print(df.head())"
   ]
  },
  {
   "cell_type": "code",
   "execution_count": 3,
   "id": "b3a341ba",
   "metadata": {},
   "outputs": [],
   "source": [
    "#Build model\n",
    "import statsmodels.formula.api as smf\n",
    "model=smf.ols('MPG~WT+VOL+SP+HP', data=df).fit()"
   ]
  },
  {
   "cell_type": "code",
   "execution_count": 4,
   "id": "6b06738a",
   "metadata": {},
   "outputs": [
    {
     "data": {
      "text/plain": [
       "Intercept    30.677336\n",
       "WT            0.400574\n",
       "VOL          -0.336051\n",
       "SP            0.395627\n",
       "HP           -0.205444\n",
       "dtype: float64"
      ]
     },
     "execution_count": 4,
     "metadata": {},
     "output_type": "execute_result"
    }
   ],
   "source": [
    "#Coefficients\n",
    "model.params"
   ]
  },
  {
   "cell_type": "code",
   "execution_count": 5,
   "id": "9b261f32",
   "metadata": {},
   "outputs": [
    {
     "name": "stdout",
     "output_type": "stream",
     "text": [
      "Intercept    2.058841\n",
      "WT           0.236541\n",
      "VOL         -0.590970\n",
      "SP           2.499880\n",
      "HP          -5.238735\n",
      "dtype: float64 \n",
      " Intercept    0.042936\n",
      "WT           0.813649\n",
      "VOL          0.556294\n",
      "SP           0.014579\n",
      "HP           0.000001\n",
      "dtype: float64\n"
     ]
    }
   ],
   "source": [
    "#t amd p-vales\n",
    "print(model.tvalues, '\\n', model.pvalues)"
   ]
  },
  {
   "cell_type": "code",
   "execution_count": 6,
   "id": "5b21f958",
   "metadata": {},
   "outputs": [
    {
     "data": {
      "text/plain": [
       "(0.7705372737359842, 0.7584602881431413)"
      ]
     },
     "execution_count": 6,
     "metadata": {},
     "output_type": "execute_result"
    }
   ],
   "source": [
    "#R squared values\n",
    "(model.rsquared,model.rsquared_adj)"
   ]
  },
  {
   "cell_type": "code",
   "execution_count": 8,
   "id": "96749198",
   "metadata": {},
   "outputs": [
    {
     "name": "stdout",
     "output_type": "stream",
     "text": [
      "Intercept    14.106056\n",
      "VOL          -5.541400\n",
      "dtype: float64 \n",
      " Intercept    2.753815e-23\n",
      "VOL          3.822819e-07\n",
      "dtype: float64\n"
     ]
    }
   ],
   "source": [
    "#in 3rd program we took all features\n",
    "#now we'll take only one feature,it is linear regression\n",
    "ml_v=smf.ols('MPG~VOL',data=df).fit()\n",
    "#t and p values\n",
    "print(ml_v.tvalues, '\\n', ml_v.pvalues)\n"
   ]
  },
  {
   "cell_type": "code",
   "execution_count": null,
   "id": "79136183",
   "metadata": {},
   "outputs": [],
   "source": []
  }
 ],
 "metadata": {
  "kernelspec": {
   "display_name": "Python 3 (ipykernel)",
   "language": "python",
   "name": "python3"
  },
  "language_info": {
   "codemirror_mode": {
    "name": "ipython",
    "version": 3
   },
   "file_extension": ".py",
   "mimetype": "text/x-python",
   "name": "python",
   "nbconvert_exporter": "python",
   "pygments_lexer": "ipython3",
   "version": "3.11.4"
  }
 },
 "nbformat": 4,
 "nbformat_minor": 5
}
