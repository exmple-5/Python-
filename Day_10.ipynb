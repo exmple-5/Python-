{
 "cells": [
  {
   "cell_type": "code",
   "execution_count": 1,
   "id": "3a95a59b",
   "metadata": {},
   "outputs": [
    {
     "data": {
      "text/plain": [
       "[30, 20, 5, 8, 9]"
      ]
     },
     "execution_count": 1,
     "metadata": {},
     "output_type": "execute_result"
    }
   ],
   "source": [
    "h=[30,20,5,8,9]\n",
    "h"
   ]
  },
  {
   "cell_type": "code",
   "execution_count": 6,
   "id": "15580c7b",
   "metadata": {},
   "outputs": [],
   "source": [
    "#for performing any operation on tuple we need for loop\n",
    "x=[]\n",
    "for i in h:\n",
    "    x.append(i+7)"
   ]
  },
  {
   "cell_type": "code",
   "execution_count": 7,
   "id": "6f9f63b4",
   "metadata": {},
   "outputs": [
    {
     "data": {
      "text/plain": [
       "[37, 27, 12, 15, 16]"
      ]
     },
     "execution_count": 7,
     "metadata": {},
     "output_type": "execute_result"
    }
   ],
   "source": [
    "x"
   ]
  },
  {
   "cell_type": "code",
   "execution_count": 8,
   "id": "01e6f09b",
   "metadata": {},
   "outputs": [
    {
     "data": {
      "text/plain": [
       "(6, 2, 3, 9, 7, 5, 8)"
      ]
     },
     "execution_count": 8,
     "metadata": {},
     "output_type": "execute_result"
    }
   ],
   "source": [
    "s=(6,2,3,9,7,5,8)\n",
    "s"
   ]
  },
  {
   "cell_type": "code",
   "execution_count": 10,
   "id": "93f52b89",
   "metadata": {},
   "outputs": [
    {
     "data": {
      "text/plain": [
       "(36, 4, 9, 81, 49, 25, 64)"
      ]
     },
     "execution_count": 10,
     "metadata": {},
     "output_type": "execute_result"
    }
   ],
   "source": [
    "y=list(s)\n",
    "d=[]\n",
    "for i in y:\n",
    "    d.append(i**2)\n",
    "s=tuple(d)\n",
    "s"
   ]
  },
  {
   "cell_type": "code",
   "execution_count": 11,
   "id": "71447d66",
   "metadata": {},
   "outputs": [
    {
     "data": {
      "text/plain": [
       "(36, 4, 9, 81, 49, 25, 64)"
      ]
     },
     "execution_count": 11,
     "metadata": {},
     "output_type": "execute_result"
    }
   ],
   "source": [
    "s"
   ]
  },
  {
   "cell_type": "code",
   "execution_count": 19,
   "id": "97bce71f",
   "metadata": {},
   "outputs": [],
   "source": [
    "x=list(s)\n",
    "d=[]\n",
    "for i in x:\n",
    "    if i>50:\n",
    "        d.append(i)\n",
    "    "
   ]
  },
  {
   "cell_type": "code",
   "execution_count": 20,
   "id": "bc109045",
   "metadata": {},
   "outputs": [
    {
     "data": {
      "text/plain": [
       "[81, 64]"
      ]
     },
     "execution_count": 20,
     "metadata": {},
     "output_type": "execute_result"
    }
   ],
   "source": [
    "d"
   ]
  },
  {
   "cell_type": "code",
   "execution_count": 22,
   "id": "3f8d7aea",
   "metadata": {},
   "outputs": [],
   "source": [
    "import numpy as np"
   ]
  },
  {
   "cell_type": "code",
   "execution_count": 23,
   "id": "fc75cd54",
   "metadata": {},
   "outputs": [],
   "source": [
    "arr=np.array([20,30,50,70,40,30,23,98])"
   ]
  },
  {
   "cell_type": "code",
   "execution_count": 24,
   "id": "71520cfe",
   "metadata": {},
   "outputs": [
    {
     "data": {
      "text/plain": [
       "array([20, 30, 50, 70, 40, 30, 23, 98])"
      ]
     },
     "execution_count": 24,
     "metadata": {},
     "output_type": "execute_result"
    }
   ],
   "source": [
    "arr"
   ]
  },
  {
   "cell_type": "code",
   "execution_count": 25,
   "id": "f17acde2",
   "metadata": {},
   "outputs": [
    {
     "data": {
      "text/plain": [
       "array([ 27,  37,  57,  77,  47,  37,  30, 105])"
      ]
     },
     "execution_count": 25,
     "metadata": {},
     "output_type": "execute_result"
    }
   ],
   "source": [
    "arr+7"
   ]
  },
  {
   "cell_type": "code",
   "execution_count": 28,
   "id": "e5330249",
   "metadata": {},
   "outputs": [
    {
     "data": {
      "text/plain": [
       "array([20, 30, 50, 70, 40, 30, 23, 98])"
      ]
     },
     "execution_count": 28,
     "metadata": {},
     "output_type": "execute_result"
    }
   ],
   "source": [
    "arr # original array won't be changed"
   ]
  },
  {
   "cell_type": "code",
   "execution_count": 29,
   "id": "99e1f012",
   "metadata": {},
   "outputs": [
    {
     "data": {
      "text/plain": [
       "array([ 27,  37,  57,  77,  47,  37,  30, 105])"
      ]
     },
     "execution_count": 29,
     "metadata": {},
     "output_type": "execute_result"
    }
   ],
   "source": [
    "#to store changes of array need to store in another variable\n",
    "t=arr+7\n",
    "t"
   ]
  },
  {
   "cell_type": "code",
   "execution_count": 30,
   "id": "dd385362",
   "metadata": {},
   "outputs": [
    {
     "data": {
      "text/plain": [
       "array([20, 30, 50, 70, 40, 30, 23, 98])"
      ]
     },
     "execution_count": 30,
     "metadata": {},
     "output_type": "execute_result"
    }
   ],
   "source": [
    "arr"
   ]
  },
  {
   "cell_type": "code",
   "execution_count": 31,
   "id": "3564bc61",
   "metadata": {},
   "outputs": [
    {
     "data": {
      "text/plain": [
       "array([False, False, False,  True, False, False, False,  True])"
      ]
     },
     "execution_count": 31,
     "metadata": {},
     "output_type": "execute_result"
    }
   ],
   "source": [
    "arr>50"
   ]
  },
  {
   "cell_type": "code",
   "execution_count": 37,
   "id": "93873fd2",
   "metadata": {},
   "outputs": [
    {
     "data": {
      "text/plain": [
       "50"
      ]
     },
     "execution_count": 37,
     "metadata": {},
     "output_type": "execute_result"
    }
   ],
   "source": [
    "# directly performing indexing and slicing\n",
    "arr[2]"
   ]
  },
  {
   "cell_type": "code",
   "execution_count": 38,
   "id": "188876a2",
   "metadata": {},
   "outputs": [
    {
     "data": {
      "text/plain": [
       "40"
      ]
     },
     "execution_count": 38,
     "metadata": {},
     "output_type": "execute_result"
    }
   ],
   "source": [
    "arr[-4]"
   ]
  },
  {
   "cell_type": "code",
   "execution_count": 39,
   "id": "dfc6ce0d",
   "metadata": {},
   "outputs": [
    {
     "data": {
      "text/plain": [
       "40"
      ]
     },
     "execution_count": 39,
     "metadata": {},
     "output_type": "execute_result"
    }
   ],
   "source": [
    "arr[4]"
   ]
  },
  {
   "cell_type": "code",
   "execution_count": 40,
   "id": "4fcefeed",
   "metadata": {},
   "outputs": [
    {
     "data": {
      "text/plain": [
       "array([40, 30, 23, 98])"
      ]
     },
     "execution_count": 40,
     "metadata": {},
     "output_type": "execute_result"
    }
   ],
   "source": [
    "arr[4:8]"
   ]
  },
  {
   "cell_type": "code",
   "execution_count": 41,
   "id": "5042e13f",
   "metadata": {},
   "outputs": [
    {
     "data": {
      "text/plain": [
       "array([40, 23])"
      ]
     },
     "execution_count": 41,
     "metadata": {},
     "output_type": "execute_result"
    }
   ],
   "source": [
    "arr[4:8:2]"
   ]
  },
  {
   "cell_type": "code",
   "execution_count": 42,
   "id": "136dc23d",
   "metadata": {},
   "outputs": [
    {
     "data": {
      "text/plain": [
       "array([20, 30, 50, 70, 40, 30, 23, 98])"
      ]
     },
     "execution_count": 42,
     "metadata": {},
     "output_type": "execute_result"
    }
   ],
   "source": [
    "arr\n"
   ]
  },
  {
   "cell_type": "code",
   "execution_count": 43,
   "id": "4e5e1c80",
   "metadata": {},
   "outputs": [
    {
     "data": {
      "text/plain": [
       "array([70, 98])"
      ]
     },
     "execution_count": 43,
     "metadata": {},
     "output_type": "execute_result"
    }
   ],
   "source": [
    "arr[arr>50]  # elements satissfying condition"
   ]
  },
  {
   "cell_type": "code",
   "execution_count": 44,
   "id": "55342349",
   "metadata": {},
   "outputs": [
    {
     "data": {
      "text/plain": [
       "array([False, False, False,  True, False, False, False,  True])"
      ]
     },
     "execution_count": 44,
     "metadata": {},
     "output_type": "execute_result"
    }
   ],
   "source": [
    "arr>50"
   ]
  },
  {
   "cell_type": "code",
   "execution_count": 46,
   "id": "f74aab14",
   "metadata": {},
   "outputs": [
    {
     "data": {
      "text/plain": [
       "array([20, 30, 50, 40, 30, 23])"
      ]
     },
     "execution_count": 46,
     "metadata": {},
     "output_type": "execute_result"
    }
   ],
   "source": [
    "arr[arr<=60]"
   ]
  },
  {
   "cell_type": "code",
   "execution_count": 47,
   "id": "fbb3ee9d",
   "metadata": {},
   "outputs": [
    {
     "data": {
      "text/plain": [
       "[36, 4, 9, 81, 49, 25, 64]"
      ]
     },
     "execution_count": 47,
     "metadata": {},
     "output_type": "execute_result"
    }
   ],
   "source": [
    "k=[36,4,9,81,49,25,64]\n",
    "k"
   ]
  },
  {
   "cell_type": "code",
   "execution_count": 54,
   "id": "b69cf911",
   "metadata": {},
   "outputs": [
    {
     "data": {
      "text/plain": [
       "[3, 6]"
      ]
     },
     "execution_count": 54,
     "metadata": {},
     "output_type": "execute_result"
    }
   ],
   "source": [
    "index=[]\n",
    "for i in range(len(k)):\n",
    "    if k[i]>50:\n",
    "        index.append(i)\n",
    "index"
   ]
  },
  {
   "cell_type": "code",
   "execution_count": 55,
   "id": "35defdc4",
   "metadata": {},
   "outputs": [
    {
     "data": {
      "text/plain": [
       "(array([3, 7], dtype=int64),)"
      ]
     },
     "execution_count": 55,
     "metadata": {},
     "output_type": "execute_result"
    }
   ],
   "source": [
    "np.where(arr>50) #indexes of elements satisfying condition"
   ]
  },
  {
   "cell_type": "code",
   "execution_count": 56,
   "id": "6c8a87a3",
   "metadata": {},
   "outputs": [
    {
     "data": {
      "text/plain": [
       "array([70, 98])"
      ]
     },
     "execution_count": 56,
     "metadata": {},
     "output_type": "execute_result"
    }
   ],
   "source": [
    "arr[arr>50]  # elements satissfying condition"
   ]
  },
  {
   "cell_type": "code",
   "execution_count": null,
   "id": "151187c1",
   "metadata": {},
   "outputs": [],
   "source": []
  }
 ],
 "metadata": {
  "kernelspec": {
   "display_name": "Python 3 (ipykernel)",
   "language": "python",
   "name": "python3"
  },
  "language_info": {
   "codemirror_mode": {
    "name": "ipython",
    "version": 3
   },
   "file_extension": ".py",
   "mimetype": "text/x-python",
   "name": "python",
   "nbconvert_exporter": "python",
   "pygments_lexer": "ipython3",
   "version": "3.11.4"
  }
 },
 "nbformat": 4,
 "nbformat_minor": 5
}
