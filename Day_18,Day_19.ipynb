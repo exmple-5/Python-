{
 "cells": [
  {
   "cell_type": "code",
   "execution_count": null,
   "id": "f02dc641",
   "metadata": {},
   "outputs": [],
   "source": [
    "#feature_scaling is normalization and standardization"
   ]
  },
  {
   "cell_type": "code",
   "execution_count": 2,
   "id": "3faaad6f",
   "metadata": {},
   "outputs": [
    {
     "name": "stdout",
     "output_type": "stream",
     "text": [
      "    age  height  weight\n",
      "0  0.00    0.00    0.00\n",
      "1  0.25    0.25    0.25\n",
      "2  0.50    0.50    0.50\n",
      "3  0.75    0.75    0.75\n",
      "4  1.00    1.00    1.00\n"
     ]
    }
   ],
   "source": [
    "\n",
    "import pandas as pd\n",
    "from sklearn.preprocessing import MinMaxScaler\n",
    "\n",
    "# Create data\n",
    "data = {\n",
    "    \"age\": [25, 30, 35, 40, 45],\n",
    "    \"height\": [150, 160, 170, 180, 190],\n",
    "    \"weight\": [50, 60, 70, 80, 90]\n",
    "}\n",
    "\n",
    "# Creating DataFrame\n",
    "df = pd.DataFrame(data)\n",
    "\n",
    "# Initialize the MinMaxScaler\n",
    "scaler = MinMaxScaler()\n",
    "\n",
    "# Apply normalization to the DataFrame\n",
    "normalized_data = scaler.fit_transform(df)\n",
    "\n",
    "# Convert the result back into a DataFrame for easy visualization\n",
    "normalized_df = pd.DataFrame(normalized_data, columns=df.columns)\n",
    "\n",
    "# Display the normalized DataFrame\n",
    "print(normalized_df)\n"
   ]
  },
  {
   "cell_type": "code",
   "execution_count": 3,
   "id": "c4d2e633",
   "metadata": {},
   "outputs": [
    {
     "name": "stdout",
     "output_type": "stream",
     "text": [
      "        age    height    weight\n",
      "0 -1.414214 -1.414214 -1.414214\n",
      "1 -0.707107 -0.707107 -0.707107\n",
      "2  0.000000  0.000000  0.000000\n",
      "3  0.707107  0.707107  0.707107\n",
      "4  1.414214  1.414214  1.414214\n"
     ]
    }
   ],
   "source": [
    "import pandas as pd\n",
    "from sklearn.preprocessing import StandardScaler\n",
    "\n",
    "# Create data\n",
    "data = {\n",
    "    \"age\": [25, 30, 35, 40, 45],\n",
    "    \"height\": [150, 160, 170, 180, 190],\n",
    "    \"weight\": [50, 60, 70, 80, 90]\n",
    "}\n",
    "\n",
    "# Creating DataFrame\n",
    "df = pd.DataFrame(data)\n",
    "\n",
    "# Initialize the StandardScaler\n",
    "scaler = StandardScaler()\n",
    "\n",
    "# Apply standardization to the DataFrame\n",
    "standardized_data = scaler.fit_transform(df)\n",
    "\n",
    "# Convert the result back into a DataFrame for easy visualization\n",
    "standardized_df = pd.DataFrame(standardized_data, columns=df.columns)\n",
    "\n",
    "# Display the standardized DataFrame\n",
    "print(standardized_df)\n"
   ]
  },
  {
   "cell_type": "code",
   "execution_count": 3,
   "id": "8be5d3af",
   "metadata": {},
   "outputs": [
    {
     "name": "stdout",
     "output_type": "stream",
     "text": [
      "Original Dataframe:\n",
      "   customer_id  gender       city\n",
      "0            1    Male  Hyderabad\n",
      "1            2  Female       pune\n",
      "2            3  Female   Banglore\n",
      "3            4    Male     mumbai\n",
      "   gender_Female  gender_Male  city_Banglore  city_Hyderabad  city_mumbai  \\\n",
      "0            0.0          1.0            0.0             1.0          0.0   \n",
      "1            1.0          0.0            0.0             0.0          0.0   \n",
      "2            1.0          0.0            1.0             0.0          0.0   \n",
      "3            0.0          1.0            0.0             0.0          1.0   \n",
      "\n",
      "   city_pune  \n",
      "0        0.0  \n",
      "1        1.0  \n",
      "2        0.0  \n",
      "3        0.0  \n",
      "\n",
      "One-Hot Encoded dataframe with sklearn:\n",
      "   customer_id  gender_Female  gender_Male  city_Banglore  city_Hyderabad  \\\n",
      "0            1            0.0          1.0            0.0             1.0   \n",
      "1            2            1.0          0.0            0.0             0.0   \n",
      "2            3            1.0          0.0            1.0             0.0   \n",
      "3            4            0.0          1.0            0.0             0.0   \n",
      "\n",
      "   city_mumbai  city_pune  \n",
      "0          0.0        0.0  \n",
      "1          0.0        1.0  \n",
      "2          0.0        0.0  \n",
      "3          1.0        0.0  \n"
     ]
    }
   ],
   "source": [
    "import pandas as pd\n",
    "from sklearn.preprocessing import OneHotEncoder\n",
    "\n",
    "#sample dataset\n",
    "data={\n",
    "    \"customer_id\":[1,2,3,4],\n",
    "    \"gender\":[\"Male\",\"Female\",\"Female\",\"Male\"],\n",
    "    \"city\":[\"Hyderabad\",\"pune\",\"Banglore\",\"mumbai\"]\n",
    "}\n",
    "#covert data into dataframe\n",
    "df=pd.DataFrame(data)\n",
    "print(\"Original Dataframe:\")\n",
    "print(df)\n",
    "#one-hot encoding with sklearn\n",
    "#initialize onehotencoder\n",
    "one_hot_encoder=OneHotEncoder(sparse_output=False)  #updated to use 'sparse_output'\n",
    "#select columns to encode\n",
    "columns_to_encode=[\"gender\",\"city\"]\n",
    "#fit and transform the data\n",
    "encoded_data=one_hot_encoder.fit_transform(df[columns_to_encode])\n",
    "#create a new dataframe for encoded data\n",
    "encoded_columns=one_hot_encoder.get_feature_names_out(columns_to_encode)\n",
    "encoded_df=pd.DataFrame(encoded_data,columns=encoded_columns)\n",
    "print(encoded_df)\n",
    "#combine with original dataframe\n",
    "final_df=pd.concat([df.drop(columns=columns_to_encode), encoded_df],axis=1)\n",
    "print(\"\\nOne-Hot Encoded dataframe with sklearn:\")\n",
    "print(final_df)"
   ]
  },
  {
   "cell_type": "code",
   "execution_count": null,
   "id": "4e803e1e",
   "metadata": {},
   "outputs": [],
   "source": []
  }
 ],
 "metadata": {
  "kernelspec": {
   "display_name": "Python 3 (ipykernel)",
   "language": "python",
   "name": "python3"
  },
  "language_info": {
   "codemirror_mode": {
    "name": "ipython",
    "version": 3
   },
   "file_extension": ".py",
   "mimetype": "text/x-python",
   "name": "python",
   "nbconvert_exporter": "python",
   "pygments_lexer": "ipython3",
   "version": "3.11.4"
  }
 },
 "nbformat": 4,
 "nbformat_minor": 5
}
