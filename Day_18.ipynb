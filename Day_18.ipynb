{
 "cells": [
  {
   "cell_type": "code",
   "execution_count": null,
   "id": "f02dc641",
   "metadata": {},
   "outputs": [],
   "source": []
  },
  {
   "cell_type": "code",
   "execution_count": 2,
   "id": "3faaad6f",
   "metadata": {},
   "outputs": [
    {
     "name": "stdout",
     "output_type": "stream",
     "text": [
      "    age  height  weight\n",
      "0  0.00    0.00    0.00\n",
      "1  0.25    0.25    0.25\n",
      "2  0.50    0.50    0.50\n",
      "3  0.75    0.75    0.75\n",
      "4  1.00    1.00    1.00\n"
     ]
    }
   ],
   "source": [
    "import pandas as pd\n",
    "from sklearn.preprocessing import MinMaxScaler\n",
    "\n",
    "# Create data\n",
    "data = {\n",
    "    \"age\": [25, 30, 35, 40, 45],\n",
    "    \"height\": [150, 160, 170, 180, 190],\n",
    "    \"weight\": [50, 60, 70, 80, 90]\n",
    "}\n",
    "\n",
    "# Creating DataFrame\n",
    "df = pd.DataFrame(data)\n",
    "\n",
    "# Initialize the MinMaxScaler\n",
    "scaler = MinMaxScaler()\n",
    "\n",
    "# Apply normalization to the DataFrame\n",
    "normalized_data = scaler.fit_transform(df)\n",
    "\n",
    "# Convert the result back into a DataFrame for easy visualization\n",
    "normalized_df = pd.DataFrame(normalized_data, columns=df.columns)\n",
    "\n",
    "# Display the normalized DataFrame\n",
    "print(normalized_df)\n"
   ]
  },
  {
   "cell_type": "code",
   "execution_count": 3,
   "id": "c4d2e633",
   "metadata": {},
   "outputs": [
    {
     "name": "stdout",
     "output_type": "stream",
     "text": [
      "        age    height    weight\n",
      "0 -1.414214 -1.414214 -1.414214\n",
      "1 -0.707107 -0.707107 -0.707107\n",
      "2  0.000000  0.000000  0.000000\n",
      "3  0.707107  0.707107  0.707107\n",
      "4  1.414214  1.414214  1.414214\n"
     ]
    }
   ],
   "source": [
    "import pandas as pd\n",
    "from sklearn.preprocessing import StandardScaler\n",
    "\n",
    "# Create data\n",
    "data = {\n",
    "    \"age\": [25, 30, 35, 40, 45],\n",
    "    \"height\": [150, 160, 170, 180, 190],\n",
    "    \"weight\": [50, 60, 70, 80, 90]\n",
    "}\n",
    "\n",
    "# Creating DataFrame\n",
    "df = pd.DataFrame(data)\n",
    "\n",
    "# Initialize the StandardScaler\n",
    "scaler = StandardScaler()\n",
    "\n",
    "# Apply standardization to the DataFrame\n",
    "standardized_data = scaler.fit_transform(df)\n",
    "\n",
    "# Convert the result back into a DataFrame for easy visualization\n",
    "standardized_df = pd.DataFrame(standardized_data, columns=df.columns)\n",
    "\n",
    "# Display the standardized DataFrame\n",
    "print(standardized_df)\n"
   ]
  },
  {
   "cell_type": "code",
   "execution_count": null,
   "id": "8be5d3af",
   "metadata": {},
   "outputs": [],
   "source": []
  }
 ],
 "metadata": {
  "kernelspec": {
   "display_name": "Python 3 (ipykernel)",
   "language": "python",
   "name": "python3"
  },
  "language_info": {
   "codemirror_mode": {
    "name": "ipython",
    "version": 3
   },
   "file_extension": ".py",
   "mimetype": "text/x-python",
   "name": "python",
   "nbconvert_exporter": "python",
   "pygments_lexer": "ipython3",
   "version": "3.11.4"
  }
 },
 "nbformat": 4,
 "nbformat_minor": 5
}
