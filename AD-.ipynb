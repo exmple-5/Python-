{
 "cells": [
  {
   "cell_type": "code",
   "execution_count": 1,
   "id": "b6fd6401",
   "metadata": {},
   "outputs": [
    {
     "name": "stdout",
     "output_type": "stream",
     "text": [
      "Original list: [10, None, 30, None, 50]\n",
      "List after replacing None with mean: [10, 30.0, 30, 30.0, 50]\n"
     ]
    }
   ],
   "source": [
    "'''Givcn a list of numbcrs with some missing values rcprcscntcd as None. rcplacc the nissing values with thc mcan ofthc non-missing numbcrs.\n",
    "Examplc Input:\n",
    "10, None, 30, None, 50'''\n",
    "def replace_missing_with_mean(numbers):\n",
    "    non_missing_numbers = [num for num in numbers if num is not None]\n",
    "    mean_value = sum(non_missing_numbers) / len(non_missing_numbers)\n",
    "    result = [mean_value if num is None else num for num in numbers]\n",
    "    return result\n",
    "#Input\n",
    "numbers = [10, None, 30, None, 50]\n",
    "output = replace_missing_with_mean(numbers)\n",
    "print(\"Original list:\", numbers)\n",
    "print(\"List after replacing None with mean:\", output)"
   ]
  },
  {
   "cell_type": "code",
   "execution_count": 2,
   "id": "fc0983f0",
   "metadata": {},
   "outputs": [
    {
     "name": "stdout",
     "output_type": "stream",
     "text": [
      "Original list: [20, 40, 60, 80, 100]\n",
      "Scaled list: [0.0, 0.25, 0.5, 0.75, 1.0]\n"
     ]
    }
   ],
   "source": [
    "'''\n",
    "Implement a function to scalc a list of numbers using Min-Max Scaling. Usc the formula:\n",
    "scaled(c) —  max x —min— ruin\n",
    "Example Input:\n",
    "20, 40, 60, 80, 100\n",
    "'''\n",
    "def min_max_scaling(numbers):\n",
    "    min_val = min(numbers)\n",
    "    max_val = max(numbers)\n",
    "    scaled_numbers = [(x - min_val) / (max_val - min_val) for x in numbers]\n",
    "    return scaled_numbers\n",
    "# Input\n",
    "numbers = [20, 40, 60, 80, 100]\n",
    "scaled_output = min_max_scaling(numbers)\n",
    "print(\"Original list:\", numbers)\n",
    "print(\"Scaled list:\", scaled_output)"
   ]
  },
  {
   "cell_type": "code",
   "execution_count": 3,
   "id": "c36621db",
   "metadata": {},
   "outputs": [
    {
     "name": "stdout",
     "output_type": "stream",
     "text": [
      "Original list: [1.5, 2.3, 0.8, 3.0]\n",
      "Binarized list: [0, 1, 0, 1]\n"
     ]
    }
   ],
   "source": [
    "'''\n",
    "Implement a function to binarize a list of numbers given a threshold. All values great han or equal to the threshold should become 1, and all others should become 0.\n",
    "Example Input:\n",
    "1.5, 2.3, 0.8, 3.0], threshold = 2.0\n",
    "'''\n",
    "def binarize(numbers, threshold):\n",
    "    binary_list = [1 if x >= threshold else 0 for x in numbers]\n",
    "    return binary_list\n",
    "#Input\n",
    "numbers = [1.5, 2.3, 0.8, 3.0]\n",
    "threshold = 2.0\n",
    "binarized_output = binarize(numbers, threshold)\n",
    "print(\"Original list:\", numbers)\n",
    "print(\"Binarized list:\", binarized_output)"
   ]
  },
  {
   "cell_type": "code",
   "execution_count": 4,
   "id": "51d4808b",
   "metadata": {},
   "outputs": [
    {
     "name": "stdout",
     "output_type": "stream",
     "text": [
      "Inputs: [1, 2, 3]\n",
      "Outputs: [5, 7, 9]\n"
     ]
    }
   ],
   "source": [
    "'''\n",
    "Given a function f(x)=2x+3, write a function to approximatc f(x) by calculating the outputs for a givcn list of inputs.'''\n",
    "def calculate_outputs(f, inputs):\n",
    "    outputs = [f(x) for x in inputs]\n",
    "    return outputs\n",
    "# Define the function \n",
    "def f(x):\n",
    "    return 2 * x + 3\n",
    "# Input\n",
    "inputs = [1, 2, 3]\n",
    "outputs = calculate_outputs(f, inputs)\n",
    "print(\"Inputs:\", inputs)\n",
    "print(\"Outputs:\", outputs)"
   ]
  },
  {
   "cell_type": "code",
   "execution_count": 5,
   "id": "2caef346",
   "metadata": {},
   "outputs": [
    {
     "name": "stdout",
     "output_type": "stream",
     "text": [
      "Original list: [10, 20, 30, 40]\n",
      "Standardized list: [-1.3416407864998738, -0.4472135954999579, 0.4472135954999579, 1.3416407864998738]\n"
     ]
    }
   ],
   "source": [
    "'''\n",
    "Write a function y the standard \n",
    "Example Input:\n",
    "[10, 20, 30, 40\tto standardize a list of numbers by subtracting the mean and dividing deviation.\n",
    "'''\n",
    "def standardize(numbers):\n",
    "    mean = sum(numbers) / len(numbers)\n",
    "    variance = sum((x - mean) ** 2 for x in numbers) / len(numbers)\n",
    "    std_dev = variance ** 0.5\n",
    "    standardized_numbers = [(x - mean) / std_dev for x in numbers]\n",
    "    return standardized_numbers\n",
    "#Input\n",
    "numbers = [10, 20, 30, 40]\n",
    "standardized_output = standardize(numbers)\n",
    "print(\"Original list:\", numbers)\n",
    "print(\"Standardized list:\", standardized_output)"
   ]
  },
  {
   "cell_type": "code",
   "execution_count": 6,
   "id": "f4921d02",
   "metadata": {},
   "outputs": [
    {
     "name": "stdout",
     "output_type": "stream",
     "text": [
      "Concept Representation: {'A': [1, 3, 5], 'B': [2, 4]}\n"
     ]
    }
   ],
   "source": [
    "'''Given a list of data points and their corresponding labels, create a concept representation as a dictionary where keys are unique labels and values are lists of oints belonging to each label.\n",
    "Example Input:\n",
    "data = [l , 2, 3, 4, 5], labels =  \n",
    "'''\n",
    "def create_concept_representation(data, labels):\n",
    "    concept_representation = {}\n",
    "    for point, label in zip(data, labels):\n",
    "        if label not in concept_representation:\n",
    "            concept_representation[label] = []\n",
    "        concept_representation[label].append(point)\n",
    "    return concept_representation\n",
    "#Input\n",
    "data = [1, 2, 3, 4, 5]\n",
    "labels = [\"A\", \"B\", \"A\", \"B\", \"A\"]\n",
    "concept_representation = create_concept_representation(data, labels)\n",
    "print(\"Concept Representation:\", concept_representation)"
   ]
  },
  {
   "cell_type": "code",
   "execution_count": 7,
   "id": "fe45ce7a",
   "metadata": {},
   "outputs": [
    {
     "name": "stdout",
     "output_type": "stream",
     "text": [
      "Task Category: Supervised Learning\n"
     ]
    }
   ],
   "source": [
    "'''\n",
    "Write a function that categorizes a given machine learning task based on its description. The categories are \"Supervised Learning\" or \"Unsupervised Learning\"\n",
    "Example Input:\n",
    "\"Predict the rice of a house based on features like size, location, and a e.\"\n",
    "'''\n",
    "def categorize_task(description):\n",
    "    supervised_keywords = [\"predict\", \"classification\", \"output\", \"labeled\", \"target\", \"price\", \"regression\"]\n",
    "    description_lower = description.lower()\n",
    "    if any(keyword in description_lower for keyword in supervised_keywords):\n",
    "        return \"Supervised Learning\"\n",
    "    else:\n",
    "        return \"Unsupervised Learning\"\n",
    "#Input\n",
    "description = \"Predict the price of a house based on features like size, location, and age.\"\n",
    "# Categorize the task\n",
    "category = categorize_task(description)\n",
    "print(\"Task Category:\", category)"
   ]
  },
  {
   "cell_type": "code",
   "execution_count": 8,
   "id": "9366a7b5",
   "metadata": {},
   "outputs": [
    {
     "name": "stdout",
     "output_type": "stream",
     "text": [
      "Task Category: Unsupervised Learning\n"
     ]
    }
   ],
   "source": [
    "'''\n",
    "Write a function that categorizes n given machine learning task based on its description. The categories are \"Supervised Learning\" or \"Unsupervised Learning\"\n",
    "\"Grou customers based on tl)cir urchasill ' attcrns.\"\n",
    "'''\n",
    "def categorize_task(description):\n",
    "    supervised_keywords = [\"predict\", \"classification\", \"output\", \"labeled\", \"target\", \"price\", \"regression\"]\n",
    "    description_lower = description.lower()\n",
    "    if any(keyword in description_lower for keyword in supervised_keywords):\n",
    "        return \"Supervised Learning\"\n",
    "    else:\n",
    "        return \"Unsupervised Learning\"\n",
    "#Input\n",
    "description = \"Group customers based on their purchasing patterns.\"\n",
    "# Categorize the task\n",
    "category = categorize_task(description)\n",
    "print(\"Task Category:\", category)"
   ]
  },
  {
   "cell_type": "code",
   "execution_count": null,
   "id": "86ac78dd",
   "metadata": {},
   "outputs": [],
   "source": [
    "'''\n",
    "Predict Y using a Simple Linear Model\n",
    "Task:\n",
    "Write a function that calculates the predicted y value givcn thc slope m, intercept c, and an input x using the formula for a linc:\n",
    "y=mx+c\n",
    "Input:\n",
    "Three values:\n",
    "m (float): The slopc ofthc line.\n",
    "c (float): Thc y-intcrccpt ofthc line.\n",
    "x (float): Thc input value.\n",
    "Ou ut: A sin lc float valucrc rcscntin\n",
    "'''\n",
    "def predict_y(m, c, x):\n",
    "    # Calculate the predicted y value using the formula y = mx + c\n",
    "    y = m * x + c\n",
    "    return y\n",
    "#Input\n",
    "m = 2.5  # Slope\n",
    "c = 3.0  # Intercept\n",
    "x = 4.0  # Input value\n",
    "# Calculate the predicted y\n",
    "y_predicted = predict_y(m, c, x)\n",
    "print(\"Predicted y:\", y_predicted)"
   ]
  }
 ],
 "metadata": {
  "kernelspec": {
   "display_name": "Python 3 (ipykernel)",
   "language": "python",
   "name": "python3"
  },
  "language_info": {
   "codemirror_mode": {
    "name": "ipython",
    "version": 3
   },
   "file_extension": ".py",
   "mimetype": "text/x-python",
   "name": "python",
   "nbconvert_exporter": "python",
   "pygments_lexer": "ipython3",
   "version": "3.11.4"
  }
 },
 "nbformat": 4,
 "nbformat_minor": 5
}
