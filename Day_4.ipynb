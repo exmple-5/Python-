{
 "cells": [
  {
   "cell_type": "code",
   "execution_count": 1,
   "id": "1ccb9185",
   "metadata": {},
   "outputs": [],
   "source": [
    "#dictionary\n",
    "a={'x':2,'y':5,'z':7}"
   ]
  },
  {
   "cell_type": "code",
   "execution_count": 2,
   "id": "5e39b4c8",
   "metadata": {},
   "outputs": [
    {
     "data": {
      "text/plain": [
       "{'x': 2, 'y': 5, 'z': 7}"
      ]
     },
     "execution_count": 2,
     "metadata": {},
     "output_type": "execute_result"
    }
   ],
   "source": [
    "a"
   ]
  },
  {
   "cell_type": "code",
   "execution_count": 3,
   "id": "181973e6",
   "metadata": {},
   "outputs": [
    {
     "data": {
      "text/plain": [
       "dict"
      ]
     },
     "execution_count": 3,
     "metadata": {},
     "output_type": "execute_result"
    }
   ],
   "source": [
    "type(a)"
   ]
  },
  {
   "cell_type": "code",
   "execution_count": 4,
   "id": "02d81bed",
   "metadata": {},
   "outputs": [
    {
     "data": {
      "text/plain": [
       "2"
      ]
     },
     "execution_count": 4,
     "metadata": {},
     "output_type": "execute_result"
    }
   ],
   "source": [
    "a['x']"
   ]
  },
  {
   "cell_type": "code",
   "execution_count": 5,
   "id": "d876dab9",
   "metadata": {},
   "outputs": [
    {
     "data": {
      "text/plain": [
       "5"
      ]
     },
     "execution_count": 5,
     "metadata": {},
     "output_type": "execute_result"
    }
   ],
   "source": [
    "a['y']"
   ]
  },
  {
   "cell_type": "code",
   "execution_count": 8,
   "id": "462bb312",
   "metadata": {},
   "outputs": [
    {
     "data": {
      "text/plain": [
       "7"
      ]
     },
     "execution_count": 8,
     "metadata": {},
     "output_type": "execute_result"
    }
   ],
   "source": [
    "a['z']"
   ]
  },
  {
   "cell_type": "code",
   "execution_count": 7,
   "id": "add65a71",
   "metadata": {},
   "outputs": [
    {
     "data": {
      "text/plain": [
       "{'x': 2, 'y': 5, 'z': 7}"
      ]
     },
     "execution_count": 7,
     "metadata": {},
     "output_type": "execute_result"
    }
   ],
   "source": [
    "a"
   ]
  },
  {
   "cell_type": "code",
   "execution_count": 9,
   "id": "408eaff4",
   "metadata": {},
   "outputs": [],
   "source": [
    "d={123:3,23:4,34:6}"
   ]
  },
  {
   "cell_type": "code",
   "execution_count": 10,
   "id": "ec0b85e6",
   "metadata": {},
   "outputs": [
    {
     "data": {
      "text/plain": [
       "{123: 3, 23: 4, 34: 6}"
      ]
     },
     "execution_count": 10,
     "metadata": {},
     "output_type": "execute_result"
    }
   ],
   "source": [
    "d"
   ]
  },
  {
   "cell_type": "code",
   "execution_count": 11,
   "id": "38a87f81",
   "metadata": {},
   "outputs": [
    {
     "data": {
      "text/plain": [
       "dict"
      ]
     },
     "execution_count": 11,
     "metadata": {},
     "output_type": "execute_result"
    }
   ],
   "source": [
    "type(d)"
   ]
  },
  {
   "cell_type": "code",
   "execution_count": 12,
   "id": "bd300bb2",
   "metadata": {},
   "outputs": [
    {
     "data": {
      "text/plain": [
       "4"
      ]
     },
     "execution_count": 12,
     "metadata": {},
     "output_type": "execute_result"
    }
   ],
   "source": [
    "d[23]"
   ]
  },
  {
   "cell_type": "code",
   "execution_count": 14,
   "id": "c10c24d5",
   "metadata": {},
   "outputs": [
    {
     "data": {
      "text/plain": [
       "3"
      ]
     },
     "execution_count": 14,
     "metadata": {},
     "output_type": "execute_result"
    }
   ],
   "source": [
    "d[123]"
   ]
  },
  {
   "cell_type": "code",
   "execution_count": 15,
   "id": "c7fe34c9",
   "metadata": {},
   "outputs": [
    {
     "data": {
      "text/plain": [
       "6"
      ]
     },
     "execution_count": 15,
     "metadata": {},
     "output_type": "execute_result"
    }
   ],
   "source": [
    "d[34]"
   ]
  },
  {
   "cell_type": "code",
   "execution_count": 16,
   "id": "c33d85eb",
   "metadata": {},
   "outputs": [],
   "source": [
    "d[23]=4"
   ]
  },
  {
   "cell_type": "code",
   "execution_count": 17,
   "id": "5f76cbe2",
   "metadata": {},
   "outputs": [
    {
     "data": {
      "text/plain": [
       "{123: 3, 23: 4, 34: 6}"
      ]
     },
     "execution_count": 17,
     "metadata": {},
     "output_type": "execute_result"
    }
   ],
   "source": [
    "d"
   ]
  },
  {
   "cell_type": "code",
   "execution_count": 18,
   "id": "01f928a5",
   "metadata": {},
   "outputs": [],
   "source": [
    "d[23]=5"
   ]
  },
  {
   "cell_type": "code",
   "execution_count": 19,
   "id": "5f5ad8ec",
   "metadata": {},
   "outputs": [
    {
     "data": {
      "text/plain": [
       "3"
      ]
     },
     "execution_count": 19,
     "metadata": {},
     "output_type": "execute_result"
    }
   ],
   "source": [
    "d.get(123)"
   ]
  },
  {
   "cell_type": "code",
   "execution_count": 20,
   "id": "b12bbc8f",
   "metadata": {},
   "outputs": [
    {
     "data": {
      "text/plain": [
       "{123: 3, 23: 5, 34: 6}"
      ]
     },
     "execution_count": 20,
     "metadata": {},
     "output_type": "execute_result"
    }
   ],
   "source": [
    "d"
   ]
  },
  {
   "cell_type": "code",
   "execution_count": 21,
   "id": "f42d3a26",
   "metadata": {},
   "outputs": [],
   "source": [
    "d.update({123:4})"
   ]
  },
  {
   "cell_type": "code",
   "execution_count": 23,
   "id": "2e70941f",
   "metadata": {},
   "outputs": [],
   "source": [
    "del d[23]"
   ]
  },
  {
   "cell_type": "code",
   "execution_count": 24,
   "id": "bd2bd74a",
   "metadata": {},
   "outputs": [
    {
     "data": {
      "text/plain": [
       "{123: 4, 34: 6}"
      ]
     },
     "execution_count": 24,
     "metadata": {},
     "output_type": "execute_result"
    }
   ],
   "source": [
    "d"
   ]
  },
  {
   "cell_type": "code",
   "execution_count": 25,
   "id": "484b5333",
   "metadata": {},
   "outputs": [],
   "source": [
    "d.update({105:50})"
   ]
  },
  {
   "cell_type": "code",
   "execution_count": 26,
   "id": "1ae89d43",
   "metadata": {},
   "outputs": [
    {
     "data": {
      "text/plain": [
       "{123: 4, 34: 6, 105: 50}"
      ]
     },
     "execution_count": 26,
     "metadata": {},
     "output_type": "execute_result"
    }
   ],
   "source": [
    "d"
   ]
  },
  {
   "cell_type": "code",
   "execution_count": 27,
   "id": "839ffb15",
   "metadata": {},
   "outputs": [],
   "source": [
    "d.update({123:3})"
   ]
  },
  {
   "cell_type": "code",
   "execution_count": 28,
   "id": "8af9a3f1",
   "metadata": {},
   "outputs": [
    {
     "data": {
      "text/plain": [
       "{123: 3, 34: 6, 105: 50}"
      ]
     },
     "execution_count": 28,
     "metadata": {},
     "output_type": "execute_result"
    }
   ],
   "source": [
    "d"
   ]
  },
  {
   "cell_type": "code",
   "execution_count": 29,
   "id": "59a162ec",
   "metadata": {},
   "outputs": [
    {
     "data": {
      "text/plain": [
       "{123: 3, 23: 4, 34: 6}"
      ]
     },
     "execution_count": 29,
     "metadata": {},
     "output_type": "execute_result"
    }
   ],
   "source": [
    "d={123:3,23:4,34:6}\n",
    "d"
   ]
  },
  {
   "cell_type": "code",
   "execution_count": 30,
   "id": "cf7a4b54",
   "metadata": {},
   "outputs": [],
   "source": [
    "d.update({123:3})"
   ]
  },
  {
   "cell_type": "code",
   "execution_count": 31,
   "id": "d247b7c9",
   "metadata": {},
   "outputs": [
    {
     "data": {
      "text/plain": [
       "{123: 3, 23: 4, 34: 6}"
      ]
     },
     "execution_count": 31,
     "metadata": {},
     "output_type": "execute_result"
    }
   ],
   "source": [
    "d"
   ]
  },
  {
   "cell_type": "code",
   "execution_count": 32,
   "id": "2b102da8",
   "metadata": {},
   "outputs": [],
   "source": [
    "d.update({234:53})"
   ]
  },
  {
   "cell_type": "code",
   "execution_count": 33,
   "id": "e85a72d2",
   "metadata": {},
   "outputs": [
    {
     "data": {
      "text/plain": [
       "{123: 3, 23: 4, 34: 6, 234: 53}"
      ]
     },
     "execution_count": 33,
     "metadata": {},
     "output_type": "execute_result"
    }
   ],
   "source": [
    "d"
   ]
  },
  {
   "cell_type": "code",
   "execution_count": 34,
   "id": "c29a4af4",
   "metadata": {},
   "outputs": [],
   "source": [
    "d[104]=[1000,200,300,3000]"
   ]
  },
  {
   "cell_type": "code",
   "execution_count": 35,
   "id": "0c3f8c0e",
   "metadata": {},
   "outputs": [
    {
     "data": {
      "text/plain": [
       "{123: 3, 23: 4, 34: 6, 234: 53, 104: [1000, 200, 300, 3000]}"
      ]
     },
     "execution_count": 35,
     "metadata": {},
     "output_type": "execute_result"
    }
   ],
   "source": [
    "d"
   ]
  },
  {
   "cell_type": "code",
   "execution_count": 36,
   "id": "0fb3fc41",
   "metadata": {},
   "outputs": [
    {
     "data": {
      "text/plain": [
       "[1000, 200, 300, 3000]"
      ]
     },
     "execution_count": 36,
     "metadata": {},
     "output_type": "execute_result"
    }
   ],
   "source": [
    "d[104]"
   ]
  },
  {
   "cell_type": "code",
   "execution_count": 37,
   "id": "dcc4ab4b",
   "metadata": {},
   "outputs": [
    {
     "data": {
      "text/plain": [
       "3"
      ]
     },
     "execution_count": 37,
     "metadata": {},
     "output_type": "execute_result"
    }
   ],
   "source": [
    "d[123]"
   ]
  },
  {
   "cell_type": "code",
   "execution_count": 39,
   "id": "379e5aed",
   "metadata": {},
   "outputs": [
    {
     "data": {
      "text/plain": [
       "4"
      ]
     },
     "execution_count": 39,
     "metadata": {},
     "output_type": "execute_result"
    }
   ],
   "source": [
    "d[23]"
   ]
  },
  {
   "cell_type": "code",
   "execution_count": 40,
   "id": "d4463fd6",
   "metadata": {},
   "outputs": [
    {
     "data": {
      "text/plain": [
       "6"
      ]
     },
     "execution_count": 40,
     "metadata": {},
     "output_type": "execute_result"
    }
   ],
   "source": [
    "d[34]"
   ]
  },
  {
   "cell_type": "code",
   "execution_count": 41,
   "id": "b459292f",
   "metadata": {},
   "outputs": [
    {
     "data": {
      "text/plain": [
       "53"
      ]
     },
     "execution_count": 41,
     "metadata": {},
     "output_type": "execute_result"
    }
   ],
   "source": [
    "d[234]"
   ]
  },
  {
   "cell_type": "code",
   "execution_count": 43,
   "id": "7850dd15",
   "metadata": {},
   "outputs": [
    {
     "data": {
      "text/plain": [
       "300"
      ]
     },
     "execution_count": 43,
     "metadata": {},
     "output_type": "execute_result"
    }
   ],
   "source": [
    "d[104][2]"
   ]
  },
  {
   "cell_type": "code",
   "execution_count": 44,
   "id": "94fae81b",
   "metadata": {},
   "outputs": [
    {
     "data": {
      "text/plain": [
       "1000"
      ]
     },
     "execution_count": 44,
     "metadata": {},
     "output_type": "execute_result"
    }
   ],
   "source": [
    "d[104][0]"
   ]
  },
  {
   "cell_type": "code",
   "execution_count": 45,
   "id": "847df5f6",
   "metadata": {},
   "outputs": [
    {
     "data": {
      "text/plain": [
       "[1000, 200, 300]"
      ]
     },
     "execution_count": 45,
     "metadata": {},
     "output_type": "execute_result"
    }
   ],
   "source": [
    "d[104][0:3]"
   ]
  },
  {
   "cell_type": "code",
   "execution_count": 46,
   "id": "389120c6",
   "metadata": {},
   "outputs": [],
   "source": [
    "d.update({103:(20,30,40,50,60)})"
   ]
  },
  {
   "cell_type": "code",
   "execution_count": 47,
   "id": "0b5674d8",
   "metadata": {},
   "outputs": [
    {
     "data": {
      "text/plain": [
       "{123: 3,\n",
       " 23: 4,\n",
       " 34: 6,\n",
       " 234: 53,\n",
       " 104: [1000, 200, 300, 3000],\n",
       " 103: (20, 30, 40, 50, 60)}"
      ]
     },
     "execution_count": 47,
     "metadata": {},
     "output_type": "execute_result"
    }
   ],
   "source": [
    "d"
   ]
  },
  {
   "cell_type": "code",
   "execution_count": 48,
   "id": "1bafac7a",
   "metadata": {},
   "outputs": [
    {
     "data": {
      "text/plain": [
       "(20, 30, 40, 50, 60)"
      ]
     },
     "execution_count": 48,
     "metadata": {},
     "output_type": "execute_result"
    }
   ],
   "source": [
    "d[103]"
   ]
  },
  {
   "cell_type": "code",
   "execution_count": 50,
   "id": "ca574596",
   "metadata": {},
   "outputs": [
    {
     "data": {
      "text/plain": [
       "dict"
      ]
     },
     "execution_count": 50,
     "metadata": {},
     "output_type": "execute_result"
    }
   ],
   "source": [
    "type(d)"
   ]
  },
  {
   "cell_type": "code",
   "execution_count": 51,
   "id": "464d7077",
   "metadata": {},
   "outputs": [
    {
     "data": {
      "text/plain": [
       "list"
      ]
     },
     "execution_count": 51,
     "metadata": {},
     "output_type": "execute_result"
    }
   ],
   "source": [
    "type(d[104])"
   ]
  },
  {
   "cell_type": "code",
   "execution_count": 53,
   "id": "b25ebd02",
   "metadata": {},
   "outputs": [
    {
     "data": {
      "text/plain": [
       "tuple"
      ]
     },
     "execution_count": 53,
     "metadata": {},
     "output_type": "execute_result"
    }
   ],
   "source": [
    "type(d[103])"
   ]
  },
  {
   "cell_type": "code",
   "execution_count": 56,
   "id": "5bdd4831",
   "metadata": {},
   "outputs": [
    {
     "data": {
      "text/plain": [
       "int"
      ]
     },
     "execution_count": 56,
     "metadata": {},
     "output_type": "execute_result"
    }
   ],
   "source": [
    "type(d[123])"
   ]
  },
  {
   "cell_type": "code",
   "execution_count": 58,
   "id": "eca9068c",
   "metadata": {},
   "outputs": [
    {
     "data": {
      "text/plain": [
       "tuple"
      ]
     },
     "execution_count": 58,
     "metadata": {},
     "output_type": "execute_result"
    }
   ],
   "source": [
    "type(d[103])"
   ]
  },
  {
   "cell_type": "code",
   "execution_count": 59,
   "id": "336728a9",
   "metadata": {},
   "outputs": [
    {
     "ename": "AttributeError",
     "evalue": "'tuple' object has no attribute 'append'",
     "output_type": "error",
     "traceback": [
      "\u001b[1;31m---------------------------------------------------------------------------\u001b[0m",
      "\u001b[1;31mAttributeError\u001b[0m                            Traceback (most recent call last)",
      "Cell \u001b[1;32mIn[59], line 1\u001b[0m\n\u001b[1;32m----> 1\u001b[0m d[\u001b[38;5;241m103\u001b[39m]\u001b[38;5;241m.\u001b[39mappend(\u001b[38;5;241m100\u001b[39m)\n",
      "\u001b[1;31mAttributeError\u001b[0m: 'tuple' object has no attribute 'append'"
     ]
    }
   ],
   "source": [
    "d[103].append(100)"
   ]
  },
  {
   "cell_type": "code",
   "execution_count": 70,
   "id": "01566464",
   "metadata": {},
   "outputs": [],
   "source": [
    "d[104].append(5000000)"
   ]
  },
  {
   "cell_type": "code",
   "execution_count": 71,
   "id": "0a511bb6",
   "metadata": {},
   "outputs": [
    {
     "data": {
      "text/plain": [
       "{123: 3,\n",
       " 23: 4,\n",
       " 34: 6,\n",
       " 234: 53,\n",
       " 104: [1000, 200, 300, 3000, 134, 23, 2000, 5000, 5, 5000000],\n",
       " 103: (20, 30, 40, 50, 60)}"
      ]
     },
     "execution_count": 71,
     "metadata": {},
     "output_type": "execute_result"
    }
   ],
   "source": [
    "d"
   ]
  },
  {
   "cell_type": "code",
   "execution_count": 72,
   "id": "9e143c71",
   "metadata": {},
   "outputs": [
    {
     "data": {
      "text/plain": [
       "dict"
      ]
     },
     "execution_count": 72,
     "metadata": {},
     "output_type": "execute_result"
    }
   ],
   "source": [
    "type(d)"
   ]
  },
  {
   "cell_type": "code",
   "execution_count": 73,
   "id": "2e586bbb",
   "metadata": {},
   "outputs": [],
   "source": [
    "d[103]={50:[3,4,6,7],'apple':(20,10,40,50,[30,60,50,35])}"
   ]
  },
  {
   "cell_type": "code",
   "execution_count": 74,
   "id": "09cd4900",
   "metadata": {},
   "outputs": [
    {
     "data": {
      "text/plain": [
       "{123: 3,\n",
       " 23: 4,\n",
       " 34: 6,\n",
       " 234: 53,\n",
       " 104: [1000, 200, 300, 3000, 134, 23, 2000, 5000, 5, 5000000],\n",
       " 103: {50: [3, 4, 6, 7], 'apple': (20, 10, 40, 50, [30, 60, 50, 35])}}"
      ]
     },
     "execution_count": 74,
     "metadata": {},
     "output_type": "execute_result"
    }
   ],
   "source": [
    "d"
   ]
  },
  {
   "cell_type": "code",
   "execution_count": 75,
   "id": "c86641db",
   "metadata": {},
   "outputs": [],
   "source": [
    "d[105]={'a':{30,40,50},'b':(1000,2000,3000),'c':['K',{'L':[11,22],'M':(77,88)},'N']}"
   ]
  },
  {
   "cell_type": "code",
   "execution_count": 76,
   "id": "202ae60b",
   "metadata": {},
   "outputs": [
    {
     "data": {
      "text/plain": [
       "{123: 3,\n",
       " 23: 4,\n",
       " 34: 6,\n",
       " 234: 53,\n",
       " 104: [1000, 200, 300, 3000, 134, 23, 2000, 5000, 5, 5000000],\n",
       " 103: {50: [3, 4, 6, 7], 'apple': (20, 10, 40, 50, [30, 60, 50, 35])},\n",
       " 105: {'a': {30, 40, 50},\n",
       "  'b': (1000, 2000, 3000),\n",
       "  'c': ['K', {'L': [11, 22], 'M': (77, 88)}, 'N']}}"
      ]
     },
     "execution_count": 76,
     "metadata": {},
     "output_type": "execute_result"
    }
   ],
   "source": [
    "d"
   ]
  },
  {
   "cell_type": "code",
   "execution_count": 77,
   "id": "7a0a3e84",
   "metadata": {},
   "outputs": [
    {
     "data": {
      "text/plain": [
       "{123: 3,\n",
       " 23: 4,\n",
       " 34: 6,\n",
       " 234: 53,\n",
       " 104: [1000, 200, 300, 3000, 134, 23, 2000, 5000, 5, 5000000],\n",
       " 103: {50: [3, 4, 6, 7], 'apple': (20, 10, 40, 50, [30, 60, 50, 35])},\n",
       " 105: {'a': {30, 40, 50},\n",
       "  'b': (1000, 2000, 3000),\n",
       "  'c': ['K', {'L': [11, 22], 'M': (77, 88)}, 'N']}}"
      ]
     },
     "execution_count": 77,
     "metadata": {},
     "output_type": "execute_result"
    }
   ],
   "source": [
    "d[103]={50:[3,4,6,7],'apple':(20,10,40,50,[30,60,50,35])}\n",
    "d"
   ]
  },
  {
   "cell_type": "code",
   "execution_count": 79,
   "id": "562a8637",
   "metadata": {},
   "outputs": [
    {
     "data": {
      "text/plain": [
       "dict"
      ]
     },
     "execution_count": 79,
     "metadata": {},
     "output_type": "execute_result"
    }
   ],
   "source": [
    "type(d)"
   ]
  },
  {
   "cell_type": "code",
   "execution_count": 83,
   "id": "0c9ea4ee",
   "metadata": {},
   "outputs": [
    {
     "data": {
      "text/plain": [
       "{50: [3, 4, 6, 7], 'apple': (20, 10, 40, 50, [30, 60, 50, 35])}"
      ]
     },
     "execution_count": 83,
     "metadata": {},
     "output_type": "execute_result"
    }
   ],
   "source": [
    "d[103]"
   ]
  },
  {
   "cell_type": "code",
   "execution_count": 84,
   "id": "4ad66c65",
   "metadata": {},
   "outputs": [
    {
     "data": {
      "text/plain": [
       "[1000, 200, 300, 3000, 134, 23, 2000, 5000, 5, 5000000]"
      ]
     },
     "execution_count": 84,
     "metadata": {},
     "output_type": "execute_result"
    }
   ],
   "source": [
    "d[104]"
   ]
  },
  {
   "cell_type": "code",
   "execution_count": 85,
   "id": "4d523df9",
   "metadata": {},
   "outputs": [
    {
     "data": {
      "text/plain": [
       "200"
      ]
     },
     "execution_count": 85,
     "metadata": {},
     "output_type": "execute_result"
    }
   ],
   "source": [
    "d[104][1]"
   ]
  },
  {
   "cell_type": "code",
   "execution_count": 86,
   "id": "b0629987",
   "metadata": {},
   "outputs": [
    {
     "data": {
      "text/plain": [
       "53"
      ]
     },
     "execution_count": 86,
     "metadata": {},
     "output_type": "execute_result"
    }
   ],
   "source": [
    "d[234]"
   ]
  },
  {
   "cell_type": "code",
   "execution_count": 88,
   "id": "497f5279",
   "metadata": {},
   "outputs": [
    {
     "data": {
      "text/plain": [
       "{'a': {30, 40, 50},\n",
       " 'b': (1000, 2000, 3000),\n",
       " 'c': ['K', {'L': [11, 22], 'M': (77, 88)}, 'N']}"
      ]
     },
     "execution_count": 88,
     "metadata": {},
     "output_type": "execute_result"
    }
   ],
   "source": [
    "d[105]"
   ]
  },
  {
   "cell_type": "code",
   "execution_count": 90,
   "id": "9d9985ee",
   "metadata": {},
   "outputs": [
    {
     "data": {
      "text/plain": [
       "{50: [3, 4, 6, 7], 'apple': (20, 10, 40, 50, [30, 60, 50, 35])}"
      ]
     },
     "execution_count": 90,
     "metadata": {},
     "output_type": "execute_result"
    }
   ],
   "source": [
    "d[103]"
   ]
  },
  {
   "cell_type": "code",
   "execution_count": null,
   "id": "2874d263",
   "metadata": {},
   "outputs": [],
   "source": [
    "# # Write a Python program to calculate the sum of all even numbers between 1 and a given positive integer n\n",
    "\n",
    "# In[1]:\n",
    "\n",
    "\n",
    "n = int(input(\"Enter a positive integer: \"))\n",
    "result = sum(i for i in range(2, n + 1, 2))\n",
    "print(f\"The sum of all even numbers from 1 to {n} is: {result}\")"
   ]
  },
  {
   "cell_type": "code",
   "execution_count": null,
   "id": "aee35e66",
   "metadata": {},
   "outputs": [],
   "source": []
  }
 ],
 "metadata": {
  "kernelspec": {
   "display_name": "Python 3 (ipykernel)",
   "language": "python",
   "name": "python3"
  },
  "language_info": {
   "codemirror_mode": {
    "name": "ipython",
    "version": 3
   },
   "file_extension": ".py",
   "mimetype": "text/x-python",
   "name": "python",
   "nbconvert_exporter": "python",
   "pygments_lexer": "ipython3",
   "version": "3.11.4"
  }
 },
 "nbformat": 4,
 "nbformat_minor": 5
}
