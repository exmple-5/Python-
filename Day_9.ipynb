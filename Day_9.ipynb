{
 "cells": [
  {
   "cell_type": "code",
   "execution_count": 1,
   "id": "5c839eed",
   "metadata": {},
   "outputs": [],
   "source": [
    "import numpy as np"
   ]
  },
  {
   "cell_type": "code",
   "execution_count": 2,
   "id": "3841ca9d-60d8-4680-9a76-fd577c0063d9",
   "metadata": {},
   "outputs": [],
   "source": [
    "j=[4,6,2,8,9]"
   ]
  },
  {
   "cell_type": "raw",
   "id": "c2ed8666-94de-4d4f-980e-101a19912acf",
   "metadata": {},
   "source": [
    "1) numpy                         array operations\n",
    "2) pandas                        Data manipulation and analysis\n",
    "3) matplotlib and Seaborn        Graphical Analysis\n",
    "4) sklearn                       Machine learning algorithms and techniques\n",
    "5) statsmodels                   statistical analysis\n",
    "6)scipy                          statistical analysis"
   ]
  },
  {
   "cell_type": "code",
   "execution_count": 4,
   "id": "c58f43e7-4104-43fc-9916-41c51ef9e6e3",
   "metadata": {},
   "outputs": [
    {
     "data": {
      "text/plain": [
       "[5, 7, 2, 8, 4, 7]"
      ]
     },
     "execution_count": 4,
     "metadata": {},
     "output_type": "execute_result"
    }
   ],
   "source": [
    "j=[5,7,2,8,4,7]\n",
    "j"
   ]
  },
  {
   "cell_type": "code",
   "execution_count": 5,
   "id": "e01f5492-0873-4887-936e-c05f0ae8172a",
   "metadata": {},
   "outputs": [
    {
     "data": {
      "text/plain": [
       "array([5, 7, 2, 8, 4, 7])"
      ]
     },
     "execution_count": 5,
     "metadata": {},
     "output_type": "execute_result"
    }
   ],
   "source": [
    "np.array(j)"
   ]
  },
  {
   "cell_type": "code",
   "execution_count": 6,
   "id": "151a9e01-f27b-427a-8250-c3cece28a76a",
   "metadata": {},
   "outputs": [
    {
     "data": {
      "text/plain": [
       "(5, 7, 2, 8, 4, 7)"
      ]
     },
     "execution_count": 6,
     "metadata": {},
     "output_type": "execute_result"
    }
   ],
   "source": [
    "tuple(j)"
   ]
  },
  {
   "cell_type": "code",
   "execution_count": 7,
   "id": "4780f520-2c24-40a9-b02c-adee32a6f1d4",
   "metadata": {},
   "outputs": [
    {
     "data": {
      "text/plain": [
       "array([5, 7, 2, 8, 4, 7])"
      ]
     },
     "execution_count": 7,
     "metadata": {},
     "output_type": "execute_result"
    }
   ],
   "source": [
    "d=np.array(j)\n",
    "d"
   ]
  },
  {
   "cell_type": "code",
   "execution_count": 8,
   "id": "5d5d451d-ac38-4ee3-8833-cb3a7caf1ab4",
   "metadata": {},
   "outputs": [
    {
     "data": {
      "text/plain": [
       "numpy.ndarray"
      ]
     },
     "execution_count": 8,
     "metadata": {},
     "output_type": "execute_result"
    }
   ],
   "source": [
    "type(d)"
   ]
  },
  {
   "cell_type": "code",
   "execution_count": 9,
   "id": "2833f659-4af7-45a5-8c2e-0712f5f59565",
   "metadata": {},
   "outputs": [
    {
     "data": {
      "text/plain": [
       "(6,)"
      ]
     },
     "execution_count": 9,
     "metadata": {},
     "output_type": "execute_result"
    }
   ],
   "source": [
    "d.shape"
   ]
  },
  {
   "cell_type": "code",
   "execution_count": 10,
   "id": "bedcc8ca-6c7e-4f2b-a051-10ccd41e763b",
   "metadata": {},
   "outputs": [
    {
     "data": {
      "text/plain": [
       "1"
      ]
     },
     "execution_count": 10,
     "metadata": {},
     "output_type": "execute_result"
    }
   ],
   "source": [
    "d.ndim"
   ]
  },
  {
   "cell_type": "code",
   "execution_count": 11,
   "id": "29562082-d008-4ccc-89b2-d6ef3ca47057",
   "metadata": {},
   "outputs": [
    {
     "data": {
      "text/plain": [
       "6"
      ]
     },
     "execution_count": 11,
     "metadata": {},
     "output_type": "execute_result"
    }
   ],
   "source": [
    "d.size"
   ]
  },
  {
   "cell_type": "code",
   "execution_count": 13,
   "id": "5998b80a-4cae-4a2b-907d-3d203bba2e41",
   "metadata": {},
   "outputs": [
    {
     "data": {
      "text/plain": [
       "[[4, 8, 90, 12],\n",
       " [56, 78, 54, 20],\n",
       " [67, 89, 50, 49],\n",
       " [77, 88, 22, 55],\n",
       " [90, 40, 70, 60]]"
      ]
     },
     "execution_count": 13,
     "metadata": {},
     "output_type": "execute_result"
    }
   ],
   "source": [
    "s=[[4,8,90,12],[56,78,54,20],[67,89,50,49],[77,88,22,55],[90,40,70,60]]\n",
    "s"
   ]
  },
  {
   "cell_type": "code",
   "execution_count": 14,
   "id": "3867acf4-a066-41a9-a44c-e61f86dae2d5",
   "metadata": {},
   "outputs": [
    {
     "data": {
      "text/plain": [
       "list"
      ]
     },
     "execution_count": 14,
     "metadata": {},
     "output_type": "execute_result"
    }
   ],
   "source": [
    "type(s)"
   ]
  },
  {
   "cell_type": "code",
   "execution_count": 15,
   "id": "9db6e1fd-bff8-4a85-b09a-b78c023e6b2d",
   "metadata": {},
   "outputs": [
    {
     "data": {
      "text/plain": [
       "array([[ 4,  8, 90, 12],\n",
       "       [56, 78, 54, 20],\n",
       "       [67, 89, 50, 49],\n",
       "       [77, 88, 22, 55],\n",
       "       [90, 40, 70, 60]])"
      ]
     },
     "execution_count": 15,
     "metadata": {},
     "output_type": "execute_result"
    }
   ],
   "source": [
    "arr1=np.array(s)\n",
    "arr1"
   ]
  },
  {
   "cell_type": "code",
   "execution_count": 16,
   "id": "6d3d7f2d-5fbb-450f-ab9c-e83f8e8c0a42",
   "metadata": {},
   "outputs": [
    {
     "data": {
      "text/plain": [
       "(5, 4)"
      ]
     },
     "execution_count": 16,
     "metadata": {},
     "output_type": "execute_result"
    }
   ],
   "source": [
    "arr1.shape"
   ]
  },
  {
   "cell_type": "code",
   "execution_count": 17,
   "id": "ec1d826b-6ea8-463b-a794-dd02a76f1104",
   "metadata": {},
   "outputs": [
    {
     "data": {
      "text/plain": [
       "20"
      ]
     },
     "execution_count": 17,
     "metadata": {},
     "output_type": "execute_result"
    }
   ],
   "source": [
    "arr1.size"
   ]
  },
  {
   "cell_type": "code",
   "execution_count": 18,
   "id": "a6f48ffb-081e-44b9-9e39-0e0fc5e7ab32",
   "metadata": {},
   "outputs": [
    {
     "data": {
      "text/plain": [
       "2"
      ]
     },
     "execution_count": 18,
     "metadata": {},
     "output_type": "execute_result"
    }
   ],
   "source": [
    "arr1.ndim"
   ]
  },
  {
   "cell_type": "code",
   "execution_count": 20,
   "id": "a67fa230-5344-4417-bfa2-a6103ab3fbd1",
   "metadata": {},
   "outputs": [
    {
     "data": {
      "text/plain": [
       "array([[5, 7, 2],\n",
       "       [8, 4, 7]])"
      ]
     },
     "execution_count": 20,
     "metadata": {},
     "output_type": "execute_result"
    }
   ],
   "source": [
    "h=d.reshape(2,3)\n",
    "h"
   ]
  },
  {
   "cell_type": "code",
   "execution_count": 21,
   "id": "bc795a19-c799-4935-a02c-fe5af3c081b3",
   "metadata": {},
   "outputs": [
    {
     "data": {
      "text/plain": [
       "6"
      ]
     },
     "execution_count": 21,
     "metadata": {},
     "output_type": "execute_result"
    }
   ],
   "source": [
    "h.size"
   ]
  },
  {
   "cell_type": "code",
   "execution_count": 22,
   "id": "58132db0-7da1-464b-be64-64a2d37ee0b0",
   "metadata": {},
   "outputs": [
    {
     "data": {
      "text/plain": [
       "(2, 3)"
      ]
     },
     "execution_count": 22,
     "metadata": {},
     "output_type": "execute_result"
    }
   ],
   "source": [
    "h.shape"
   ]
  },
  {
   "cell_type": "code",
   "execution_count": 23,
   "id": "c4b7bad2-cd1e-4fd2-9123-eff585746023",
   "metadata": {},
   "outputs": [
    {
     "data": {
      "text/plain": [
       "2"
      ]
     },
     "execution_count": 23,
     "metadata": {},
     "output_type": "execute_result"
    }
   ],
   "source": [
    "h.ndim"
   ]
  },
  {
   "cell_type": "code",
   "execution_count": 24,
   "id": "7356a922-8f83-4854-a3ae-c9b6dba7411d",
   "metadata": {},
   "outputs": [
    {
     "data": {
      "text/plain": [
       "array([[5, 7],\n",
       "       [2, 8],\n",
       "       [4, 7]])"
      ]
     },
     "execution_count": 24,
     "metadata": {},
     "output_type": "execute_result"
    }
   ],
   "source": [
    "w=d.reshape(3,2)\n",
    "w"
   ]
  },
  {
   "cell_type": "code",
   "execution_count": 25,
   "id": "47d01e0b-195e-47d2-a229-82389c547a32",
   "metadata": {},
   "outputs": [
    {
     "data": {
      "text/plain": [
       "(3, 2)"
      ]
     },
     "execution_count": 25,
     "metadata": {},
     "output_type": "execute_result"
    }
   ],
   "source": [
    "w.shape"
   ]
  },
  {
   "cell_type": "code",
   "execution_count": 26,
   "id": "dffd627e-c96a-4906-830c-97949e18b55b",
   "metadata": {},
   "outputs": [
    {
     "data": {
      "text/plain": [
       "6"
      ]
     },
     "execution_count": 26,
     "metadata": {},
     "output_type": "execute_result"
    }
   ],
   "source": [
    "w.size"
   ]
  },
  {
   "cell_type": "code",
   "execution_count": 27,
   "id": "926a81fe-0930-45ff-91f5-8922af0cec80",
   "metadata": {},
   "outputs": [
    {
     "data": {
      "text/plain": [
       "2"
      ]
     },
     "execution_count": 27,
     "metadata": {},
     "output_type": "execute_result"
    }
   ],
   "source": [
    "w.ndim"
   ]
  },
  {
   "cell_type": "code",
   "execution_count": 28,
   "id": "ec38539e-d06e-45cf-99b1-66a0b558ef7f",
   "metadata": {},
   "outputs": [
    {
     "data": {
      "text/plain": [
       "array([5, 7, 2, 8, 4, 7])"
      ]
     },
     "execution_count": 28,
     "metadata": {},
     "output_type": "execute_result"
    }
   ],
   "source": [
    "d"
   ]
  },
  {
   "cell_type": "code",
   "execution_count": 29,
   "id": "5ed2bd73-7260-4143-a4e9-c51df6be48f6",
   "metadata": {},
   "outputs": [
    {
     "data": {
      "text/plain": [
       "1"
      ]
     },
     "execution_count": 29,
     "metadata": {},
     "output_type": "execute_result"
    }
   ],
   "source": [
    "d.ndim"
   ]
  },
  {
   "cell_type": "code",
   "execution_count": 30,
   "id": "f622c177-4fba-4b03-abe4-526043595f81",
   "metadata": {},
   "outputs": [
    {
     "data": {
      "text/plain": [
       "6"
      ]
     },
     "execution_count": 30,
     "metadata": {},
     "output_type": "execute_result"
    }
   ],
   "source": [
    "d.size"
   ]
  },
  {
   "cell_type": "code",
   "execution_count": 31,
   "id": "fb8cc8d0-3608-457c-b33c-6dc21f0ae9ca",
   "metadata": {},
   "outputs": [
    {
     "data": {
      "text/plain": [
       "(6,)"
      ]
     },
     "execution_count": 31,
     "metadata": {},
     "output_type": "execute_result"
    }
   ],
   "source": [
    "d.shape"
   ]
  },
  {
   "cell_type": "code",
   "execution_count": 32,
   "id": "e906cdff-5d4a-42df-8c55-af138353207c",
   "metadata": {},
   "outputs": [
    {
     "data": {
      "text/plain": [
       "(5, 4)"
      ]
     },
     "execution_count": 32,
     "metadata": {},
     "output_type": "execute_result"
    }
   ],
   "source": [
    "arr1.shape"
   ]
  },
  {
   "cell_type": "code",
   "execution_count": 33,
   "id": "2c7735de-43bc-4cdc-9b94-920b1b84f9be",
   "metadata": {},
   "outputs": [
    {
     "data": {
      "text/plain": [
       "array([[[ 4,  8, 90, 12, 56],\n",
       "        [78, 54, 20, 67, 89]],\n",
       "\n",
       "       [[50, 49, 77, 88, 22],\n",
       "        [55, 90, 40, 70, 60]]])"
      ]
     },
     "execution_count": 33,
     "metadata": {},
     "output_type": "execute_result"
    }
   ],
   "source": [
    "arr1.reshape(2,2,5)"
   ]
  },
  {
   "cell_type": "code",
   "execution_count": 41,
   "id": "dbf3147f-9ab0-439f-abe7-d9c354d9be11",
   "metadata": {},
   "outputs": [
    {
     "data": {
      "text/plain": [
       "array([[[ 4,  8, 90, 12, 56],\n",
       "        [78, 54, 20, 67, 89]],\n",
       "\n",
       "       [[50, 49, 77, 88, 22],\n",
       "        [55, 90, 40, 70, 60]]])"
      ]
     },
     "execution_count": 41,
     "metadata": {},
     "output_type": "execute_result"
    }
   ],
   "source": [
    "k=arr1.reshape(2,2,5)\n",
    "k"
   ]
  },
  {
   "cell_type": "code",
   "execution_count": 42,
   "id": "7d9b0f97-d0a1-4f24-9691-417ea544aa6b",
   "metadata": {},
   "outputs": [
    {
     "data": {
      "text/plain": [
       "20"
      ]
     },
     "execution_count": 42,
     "metadata": {},
     "output_type": "execute_result"
    }
   ],
   "source": [
    "k.size"
   ]
  },
  {
   "cell_type": "code",
   "execution_count": 43,
   "id": "9fb661b1-6bb2-4495-a57f-b1b3f8a9e079",
   "metadata": {},
   "outputs": [
    {
     "data": {
      "text/plain": [
       "3"
      ]
     },
     "execution_count": 43,
     "metadata": {},
     "output_type": "execute_result"
    }
   ],
   "source": [
    "k.ndim"
   ]
  },
  {
   "cell_type": "code",
   "execution_count": 44,
   "id": "30771f40-4ed9-4463-8458-28d81438f6f6",
   "metadata": {},
   "outputs": [
    {
     "data": {
      "text/plain": [
       "(2, 2, 5)"
      ]
     },
     "execution_count": 44,
     "metadata": {},
     "output_type": "execute_result"
    }
   ],
   "source": [
    "k.shape"
   ]
  },
  {
   "cell_type": "code",
   "execution_count": 45,
   "id": "65562337-424f-4242-8d43-c10eda411cc6",
   "metadata": {},
   "outputs": [
    {
     "data": {
      "text/plain": [
       "array([ 4,  8, 90, 12, 56, 78, 54, 20, 67, 89, 50, 49, 77, 88, 22, 55, 90,\n",
       "       40, 70, 60])"
      ]
     },
     "execution_count": 45,
     "metadata": {},
     "output_type": "execute_result"
    }
   ],
   "source": [
    "y=arr1.reshape(20,)\n",
    "y"
   ]
  },
  {
   "cell_type": "code",
   "execution_count": 46,
   "id": "13103ccd-c911-4ddb-9d7d-7a827308ec95",
   "metadata": {},
   "outputs": [
    {
     "data": {
      "text/plain": [
       "1"
      ]
     },
     "execution_count": 46,
     "metadata": {},
     "output_type": "execute_result"
    }
   ],
   "source": [
    "y.ndim"
   ]
  },
  {
   "cell_type": "code",
   "execution_count": 47,
   "id": "51720d1c-ca6a-474f-864a-6c0ecc12d6df",
   "metadata": {},
   "outputs": [
    {
     "data": {
      "text/plain": [
       "(20,)"
      ]
     },
     "execution_count": 47,
     "metadata": {},
     "output_type": "execute_result"
    }
   ],
   "source": [
    "y.shape"
   ]
  },
  {
   "cell_type": "code",
   "execution_count": 50,
   "id": "0c71967f-177c-4529-bfc0-db18d1bd29eb",
   "metadata": {},
   "outputs": [
    {
     "data": {
      "text/plain": [
       "array([[ 4],\n",
       "       [ 8],\n",
       "       [90],\n",
       "       [12],\n",
       "       [56],\n",
       "       [78],\n",
       "       [54],\n",
       "       [20],\n",
       "       [67],\n",
       "       [89],\n",
       "       [50],\n",
       "       [49],\n",
       "       [77],\n",
       "       [88],\n",
       "       [22],\n",
       "       [55],\n",
       "       [90],\n",
       "       [40],\n",
       "       [70],\n",
       "       [60]])"
      ]
     },
     "execution_count": 50,
     "metadata": {},
     "output_type": "execute_result"
    }
   ],
   "source": [
    "z=arr1.reshape(20,1)\n",
    "z"
   ]
  },
  {
   "cell_type": "code",
   "execution_count": 51,
   "id": "63bd69de-943e-42a8-a2ac-c30ec987583f",
   "metadata": {},
   "outputs": [
    {
     "data": {
      "text/plain": [
       "2"
      ]
     },
     "execution_count": 51,
     "metadata": {},
     "output_type": "execute_result"
    }
   ],
   "source": [
    "z.ndim"
   ]
  },
  {
   "cell_type": "code",
   "execution_count": 53,
   "id": "b776667f-58ad-4b93-ac35-eebc10a6d8df",
   "metadata": {},
   "outputs": [
    {
     "data": {
      "text/plain": [
       "array([[ 4,  8, 90, 12, 56, 78, 54, 20, 67, 89, 50, 49, 77, 88, 22, 55,\n",
       "        90, 40, 70, 60]])"
      ]
     },
     "execution_count": 53,
     "metadata": {},
     "output_type": "execute_result"
    }
   ],
   "source": [
    "z=arr1.reshape(1,20)\n",
    "z"
   ]
  },
  {
   "cell_type": "code",
   "execution_count": 54,
   "id": "9cde64b3-b11e-4e50-a0a4-23ee2d2aea40",
   "metadata": {},
   "outputs": [
    {
     "data": {
      "text/plain": [
       "2"
      ]
     },
     "execution_count": 54,
     "metadata": {},
     "output_type": "execute_result"
    }
   ],
   "source": [
    "z.ndim"
   ]
  },
  {
   "cell_type": "code",
   "execution_count": 55,
   "id": "7455e3b5-1653-467f-8565-f0eacc20c15f",
   "metadata": {},
   "outputs": [
    {
     "data": {
      "text/plain": [
       "array([[[[ 4],\n",
       "         [ 8],\n",
       "         [90],\n",
       "         [12],\n",
       "         [56]],\n",
       "\n",
       "        [[78],\n",
       "         [54],\n",
       "         [20],\n",
       "         [67],\n",
       "         [89]]],\n",
       "\n",
       "\n",
       "       [[[50],\n",
       "         [49],\n",
       "         [77],\n",
       "         [88],\n",
       "         [22]],\n",
       "\n",
       "        [[55],\n",
       "         [90],\n",
       "         [40],\n",
       "         [70],\n",
       "         [60]]]])"
      ]
     },
     "execution_count": 55,
     "metadata": {},
     "output_type": "execute_result"
    }
   ],
   "source": [
    "arr1.reshape(2,2,5,1)"
   ]
  },
  {
   "cell_type": "code",
   "execution_count": 57,
   "id": "b382523d-cd69-4c8e-bdf7-2faee4807cdd",
   "metadata": {},
   "outputs": [
    {
     "data": {
      "text/plain": [
       "array([[[[[[ 4],\n",
       "           [ 8],\n",
       "           [90],\n",
       "           [12],\n",
       "           [56]],\n",
       "\n",
       "          [[78],\n",
       "           [54],\n",
       "           [20],\n",
       "           [67],\n",
       "           [89]]]],\n",
       "\n",
       "\n",
       "\n",
       "        [[[[50],\n",
       "           [49],\n",
       "           [77],\n",
       "           [88],\n",
       "           [22]],\n",
       "\n",
       "          [[55],\n",
       "           [90],\n",
       "           [40],\n",
       "           [70],\n",
       "           [60]]]]]])"
      ]
     },
     "execution_count": 57,
     "metadata": {},
     "output_type": "execute_result"
    }
   ],
   "source": [
    "arr1.reshape(1,2,1,2,5,1)"
   ]
  },
  {
   "cell_type": "code",
   "execution_count": 58,
   "id": "d73f3ed7-f1a0-4fc7-8327-8f53c4cd27bd",
   "metadata": {},
   "outputs": [
    {
     "data": {
      "text/plain": [
       "range(5, 20)"
      ]
     },
     "execution_count": 58,
     "metadata": {},
     "output_type": "execute_result"
    }
   ],
   "source": [
    "range(5,20)"
   ]
  },
  {
   "cell_type": "code",
   "execution_count": 59,
   "id": "144906d3-80da-433a-a304-b6e51d6edaa8",
   "metadata": {},
   "outputs": [
    {
     "data": {
      "text/plain": [
       "[3, 4, 5, 6, 7, 8, 9, 10, 11, 12]"
      ]
     },
     "execution_count": 59,
     "metadata": {},
     "output_type": "execute_result"
    }
   ],
   "source": [
    "m=[3,4,5,6,7,8,9,10,11,12]\n",
    "m"
   ]
  },
  {
   "cell_type": "code",
   "execution_count": 60,
   "id": "e9831527-f924-44e2-a3a0-83b0f183a83f",
   "metadata": {},
   "outputs": [
    {
     "data": {
      "text/plain": [
       "range(3, 13)"
      ]
     },
     "execution_count": 60,
     "metadata": {},
     "output_type": "execute_result"
    }
   ],
   "source": [
    "range(3,13)"
   ]
  },
  {
   "cell_type": "code",
   "execution_count": 61,
   "id": "53ce4bf5-26e1-4003-a0f4-9e6ee93c8929",
   "metadata": {},
   "outputs": [
    {
     "data": {
      "text/plain": [
       "[3, 5, 7, 9, 11]"
      ]
     },
     "execution_count": 61,
     "metadata": {},
     "output_type": "execute_result"
    }
   ],
   "source": [
    "list(range(3,13,2))"
   ]
  },
  {
   "cell_type": "code",
   "execution_count": 62,
   "id": "f4efed3f-5a8e-43d8-b904-da727df6a19d",
   "metadata": {},
   "outputs": [
    {
     "data": {
      "text/plain": [
       "range(5, 500)"
      ]
     },
     "execution_count": 62,
     "metadata": {},
     "output_type": "execute_result"
    }
   ],
   "source": [
    "range(5,500)"
   ]
  },
  {
   "cell_type": "code",
   "execution_count": 63,
   "id": "7229134d-a107-458c-82e3-f273a3137421",
   "metadata": {},
   "outputs": [
    {
     "data": {
      "text/plain": [
       "(5,\n",
       " 6,\n",
       " 7,\n",
       " 8,\n",
       " 9,\n",
       " 10,\n",
       " 11,\n",
       " 12,\n",
       " 13,\n",
       " 14,\n",
       " 15,\n",
       " 16,\n",
       " 17,\n",
       " 18,\n",
       " 19,\n",
       " 20,\n",
       " 21,\n",
       " 22,\n",
       " 23,\n",
       " 24,\n",
       " 25,\n",
       " 26,\n",
       " 27,\n",
       " 28,\n",
       " 29,\n",
       " 30,\n",
       " 31,\n",
       " 32,\n",
       " 33,\n",
       " 34,\n",
       " 35,\n",
       " 36,\n",
       " 37,\n",
       " 38,\n",
       " 39,\n",
       " 40,\n",
       " 41,\n",
       " 42,\n",
       " 43,\n",
       " 44,\n",
       " 45,\n",
       " 46,\n",
       " 47,\n",
       " 48,\n",
       " 49,\n",
       " 50,\n",
       " 51,\n",
       " 52,\n",
       " 53,\n",
       " 54,\n",
       " 55,\n",
       " 56,\n",
       " 57,\n",
       " 58,\n",
       " 59,\n",
       " 60,\n",
       " 61,\n",
       " 62,\n",
       " 63,\n",
       " 64,\n",
       " 65,\n",
       " 66,\n",
       " 67,\n",
       " 68,\n",
       " 69,\n",
       " 70,\n",
       " 71,\n",
       " 72,\n",
       " 73,\n",
       " 74,\n",
       " 75,\n",
       " 76,\n",
       " 77,\n",
       " 78,\n",
       " 79,\n",
       " 80,\n",
       " 81,\n",
       " 82,\n",
       " 83,\n",
       " 84,\n",
       " 85,\n",
       " 86,\n",
       " 87,\n",
       " 88,\n",
       " 89,\n",
       " 90,\n",
       " 91,\n",
       " 92,\n",
       " 93,\n",
       " 94,\n",
       " 95,\n",
       " 96,\n",
       " 97,\n",
       " 98,\n",
       " 99,\n",
       " 100,\n",
       " 101,\n",
       " 102,\n",
       " 103,\n",
       " 104,\n",
       " 105,\n",
       " 106,\n",
       " 107,\n",
       " 108,\n",
       " 109,\n",
       " 110,\n",
       " 111,\n",
       " 112,\n",
       " 113,\n",
       " 114,\n",
       " 115,\n",
       " 116,\n",
       " 117,\n",
       " 118,\n",
       " 119,\n",
       " 120,\n",
       " 121,\n",
       " 122,\n",
       " 123,\n",
       " 124,\n",
       " 125,\n",
       " 126,\n",
       " 127,\n",
       " 128,\n",
       " 129,\n",
       " 130,\n",
       " 131,\n",
       " 132,\n",
       " 133,\n",
       " 134,\n",
       " 135,\n",
       " 136,\n",
       " 137,\n",
       " 138,\n",
       " 139,\n",
       " 140,\n",
       " 141,\n",
       " 142,\n",
       " 143,\n",
       " 144,\n",
       " 145,\n",
       " 146,\n",
       " 147,\n",
       " 148,\n",
       " 149,\n",
       " 150,\n",
       " 151,\n",
       " 152,\n",
       " 153,\n",
       " 154,\n",
       " 155,\n",
       " 156,\n",
       " 157,\n",
       " 158,\n",
       " 159,\n",
       " 160,\n",
       " 161,\n",
       " 162,\n",
       " 163,\n",
       " 164,\n",
       " 165,\n",
       " 166,\n",
       " 167,\n",
       " 168,\n",
       " 169,\n",
       " 170,\n",
       " 171,\n",
       " 172,\n",
       " 173,\n",
       " 174,\n",
       " 175,\n",
       " 176,\n",
       " 177,\n",
       " 178,\n",
       " 179,\n",
       " 180,\n",
       " 181,\n",
       " 182,\n",
       " 183,\n",
       " 184,\n",
       " 185,\n",
       " 186,\n",
       " 187,\n",
       " 188,\n",
       " 189,\n",
       " 190,\n",
       " 191,\n",
       " 192,\n",
       " 193,\n",
       " 194,\n",
       " 195,\n",
       " 196,\n",
       " 197,\n",
       " 198,\n",
       " 199,\n",
       " 200,\n",
       " 201,\n",
       " 202,\n",
       " 203,\n",
       " 204,\n",
       " 205,\n",
       " 206,\n",
       " 207,\n",
       " 208,\n",
       " 209,\n",
       " 210,\n",
       " 211,\n",
       " 212,\n",
       " 213,\n",
       " 214,\n",
       " 215,\n",
       " 216,\n",
       " 217,\n",
       " 218,\n",
       " 219,\n",
       " 220,\n",
       " 221,\n",
       " 222,\n",
       " 223,\n",
       " 224,\n",
       " 225,\n",
       " 226,\n",
       " 227,\n",
       " 228,\n",
       " 229,\n",
       " 230,\n",
       " 231,\n",
       " 232,\n",
       " 233,\n",
       " 234,\n",
       " 235,\n",
       " 236,\n",
       " 237,\n",
       " 238,\n",
       " 239,\n",
       " 240,\n",
       " 241,\n",
       " 242,\n",
       " 243,\n",
       " 244,\n",
       " 245,\n",
       " 246,\n",
       " 247,\n",
       " 248,\n",
       " 249,\n",
       " 250,\n",
       " 251,\n",
       " 252,\n",
       " 253,\n",
       " 254,\n",
       " 255,\n",
       " 256,\n",
       " 257,\n",
       " 258,\n",
       " 259,\n",
       " 260,\n",
       " 261,\n",
       " 262,\n",
       " 263,\n",
       " 264,\n",
       " 265,\n",
       " 266,\n",
       " 267,\n",
       " 268,\n",
       " 269,\n",
       " 270,\n",
       " 271,\n",
       " 272,\n",
       " 273,\n",
       " 274,\n",
       " 275,\n",
       " 276,\n",
       " 277,\n",
       " 278,\n",
       " 279,\n",
       " 280,\n",
       " 281,\n",
       " 282,\n",
       " 283,\n",
       " 284,\n",
       " 285,\n",
       " 286,\n",
       " 287,\n",
       " 288,\n",
       " 289,\n",
       " 290,\n",
       " 291,\n",
       " 292,\n",
       " 293,\n",
       " 294,\n",
       " 295,\n",
       " 296,\n",
       " 297,\n",
       " 298,\n",
       " 299,\n",
       " 300,\n",
       " 301,\n",
       " 302,\n",
       " 303,\n",
       " 304,\n",
       " 305,\n",
       " 306,\n",
       " 307,\n",
       " 308,\n",
       " 309,\n",
       " 310,\n",
       " 311,\n",
       " 312,\n",
       " 313,\n",
       " 314,\n",
       " 315,\n",
       " 316,\n",
       " 317,\n",
       " 318,\n",
       " 319,\n",
       " 320,\n",
       " 321,\n",
       " 322,\n",
       " 323,\n",
       " 324,\n",
       " 325,\n",
       " 326,\n",
       " 327,\n",
       " 328,\n",
       " 329,\n",
       " 330,\n",
       " 331,\n",
       " 332,\n",
       " 333,\n",
       " 334,\n",
       " 335,\n",
       " 336,\n",
       " 337,\n",
       " 338,\n",
       " 339,\n",
       " 340,\n",
       " 341,\n",
       " 342,\n",
       " 343,\n",
       " 344,\n",
       " 345,\n",
       " 346,\n",
       " 347,\n",
       " 348,\n",
       " 349,\n",
       " 350,\n",
       " 351,\n",
       " 352,\n",
       " 353,\n",
       " 354,\n",
       " 355,\n",
       " 356,\n",
       " 357,\n",
       " 358,\n",
       " 359,\n",
       " 360,\n",
       " 361,\n",
       " 362,\n",
       " 363,\n",
       " 364,\n",
       " 365,\n",
       " 366,\n",
       " 367,\n",
       " 368,\n",
       " 369,\n",
       " 370,\n",
       " 371,\n",
       " 372,\n",
       " 373,\n",
       " 374,\n",
       " 375,\n",
       " 376,\n",
       " 377,\n",
       " 378,\n",
       " 379,\n",
       " 380,\n",
       " 381,\n",
       " 382,\n",
       " 383,\n",
       " 384,\n",
       " 385,\n",
       " 386,\n",
       " 387,\n",
       " 388,\n",
       " 389,\n",
       " 390,\n",
       " 391,\n",
       " 392,\n",
       " 393,\n",
       " 394,\n",
       " 395,\n",
       " 396,\n",
       " 397,\n",
       " 398,\n",
       " 399,\n",
       " 400,\n",
       " 401,\n",
       " 402,\n",
       " 403,\n",
       " 404,\n",
       " 405,\n",
       " 406,\n",
       " 407,\n",
       " 408,\n",
       " 409,\n",
       " 410,\n",
       " 411,\n",
       " 412,\n",
       " 413,\n",
       " 414,\n",
       " 415,\n",
       " 416,\n",
       " 417,\n",
       " 418,\n",
       " 419,\n",
       " 420,\n",
       " 421,\n",
       " 422,\n",
       " 423,\n",
       " 424,\n",
       " 425,\n",
       " 426,\n",
       " 427,\n",
       " 428,\n",
       " 429,\n",
       " 430,\n",
       " 431,\n",
       " 432,\n",
       " 433,\n",
       " 434,\n",
       " 435,\n",
       " 436,\n",
       " 437,\n",
       " 438,\n",
       " 439,\n",
       " 440,\n",
       " 441,\n",
       " 442,\n",
       " 443,\n",
       " 444,\n",
       " 445,\n",
       " 446,\n",
       " 447,\n",
       " 448,\n",
       " 449,\n",
       " 450,\n",
       " 451,\n",
       " 452,\n",
       " 453,\n",
       " 454,\n",
       " 455,\n",
       " 456,\n",
       " 457,\n",
       " 458,\n",
       " 459,\n",
       " 460,\n",
       " 461,\n",
       " 462,\n",
       " 463,\n",
       " 464,\n",
       " 465,\n",
       " 466,\n",
       " 467,\n",
       " 468,\n",
       " 469,\n",
       " 470,\n",
       " 471,\n",
       " 472,\n",
       " 473,\n",
       " 474,\n",
       " 475,\n",
       " 476,\n",
       " 477,\n",
       " 478,\n",
       " 479,\n",
       " 480,\n",
       " 481,\n",
       " 482,\n",
       " 483,\n",
       " 484,\n",
       " 485,\n",
       " 486,\n",
       " 487,\n",
       " 488,\n",
       " 489,\n",
       " 490,\n",
       " 491,\n",
       " 492,\n",
       " 493,\n",
       " 494,\n",
       " 495,\n",
       " 496,\n",
       " 497,\n",
       " 498,\n",
       " 499)"
      ]
     },
     "execution_count": 63,
     "metadata": {},
     "output_type": "execute_result"
    }
   ],
   "source": [
    "tuple(range(5,500))"
   ]
  },
  {
   "cell_type": "code",
   "execution_count": 64,
   "id": "2127c0f2-08f6-4e04-9f77-9a65b82c5126",
   "metadata": {},
   "outputs": [
    {
     "data": {
      "text/plain": [
       "(5, 105, 205, 305, 405)"
      ]
     },
     "execution_count": 64,
     "metadata": {},
     "output_type": "execute_result"
    }
   ],
   "source": [
    "tuple(range(5,500,100))"
   ]
  },
  {
   "cell_type": "code",
   "execution_count": 65,
   "id": "dbad484b-a490-453d-b285-3d01305b25af",
   "metadata": {},
   "outputs": [
    {
     "data": {
      "text/plain": [
       "(5, 105, 205, 305, 405, 505)"
      ]
     },
     "execution_count": 65,
     "metadata": {},
     "output_type": "execute_result"
    }
   ],
   "source": [
    "tuple(range(5,506,100))"
   ]
  },
  {
   "cell_type": "code",
   "execution_count": 66,
   "id": "200948d2-223c-4120-beab-94c4c2dba3b4",
   "metadata": {},
   "outputs": [
    {
     "data": {
      "text/plain": [
       "[-10, -9, -8, -7, -6, -5, -4, -3, -2, -1, 0]"
      ]
     },
     "execution_count": 66,
     "metadata": {},
     "output_type": "execute_result"
    }
   ],
   "source": [
    "list(range(-10,1))"
   ]
  },
  {
   "cell_type": "code",
   "execution_count": 67,
   "id": "061907bb-ea7d-4464-b6cd-41fc2bde9f59",
   "metadata": {},
   "outputs": [
    {
     "data": {
      "text/plain": [
       "[-1, -2, -3, -4, -5, -6, -7, -8, -9]"
      ]
     },
     "execution_count": 67,
     "metadata": {},
     "output_type": "execute_result"
    }
   ],
   "source": [
    "list(range(-1,-10,-1))"
   ]
  },
  {
   "cell_type": "code",
   "execution_count": 68,
   "id": "b3a53807-90d8-4e47-ab2e-f4f7995107d7",
   "metadata": {},
   "outputs": [
    {
     "data": {
      "text/plain": [
       "[-1, -3, -5, -7, -9]"
      ]
     },
     "execution_count": 68,
     "metadata": {},
     "output_type": "execute_result"
    }
   ],
   "source": [
    "list(range(-1,-10,-2))"
   ]
  },
  {
   "cell_type": "code",
   "execution_count": 69,
   "id": "d08bf9e1-de67-4484-b2ab-437aab22f27a",
   "metadata": {},
   "outputs": [
    {
     "data": {
      "text/plain": [
       "[10, 8, 6, 4, 2, 0, -2, -4, -6, -8]"
      ]
     },
     "execution_count": 69,
     "metadata": {},
     "output_type": "execute_result"
    }
   ],
   "source": [
    "list(range(10,-10,-2))"
   ]
  },
  {
   "cell_type": "code",
   "execution_count": 70,
   "id": "c8259e10-db98-42c1-a82f-3317aab2135c",
   "metadata": {},
   "outputs": [
    {
     "data": {
      "text/plain": [
       "[2.5, 3, 3.5, 4, 4.5]"
      ]
     },
     "execution_count": 70,
     "metadata": {},
     "output_type": "execute_result"
    }
   ],
   "source": [
    "[2.5,3,3.5,4,4.5]"
   ]
  },
  {
   "cell_type": "code",
   "execution_count": 71,
   "id": "e4a7b30e-93a6-4d41-bd13-932284513b49",
   "metadata": {},
   "outputs": [
    {
     "data": {
      "text/plain": [
       "array([2.5, 3. , 3.5, 4. , 4.5])"
      ]
     },
     "execution_count": 71,
     "metadata": {},
     "output_type": "execute_result"
    }
   ],
   "source": [
    "np.arange(2.5,5,0.5)"
   ]
  },
  {
   "cell_type": "code",
   "execution_count": 72,
   "id": "79bebd5f-571e-41b3-b90d-46d07281f073",
   "metadata": {},
   "outputs": [
    {
     "data": {
      "text/plain": [
       "array([5, 6, 7, 8, 9])"
      ]
     },
     "execution_count": 72,
     "metadata": {},
     "output_type": "execute_result"
    }
   ],
   "source": [
    "np.arange(5,10,1)"
   ]
  },
  {
   "cell_type": "code",
   "execution_count": 73,
   "id": "0799b95e-94cf-4152-ac0c-8366d0b63790",
   "metadata": {},
   "outputs": [
    {
     "data": {
      "text/plain": [
       "range(5, 50, 5)"
      ]
     },
     "execution_count": 73,
     "metadata": {},
     "output_type": "execute_result"
    }
   ],
   "source": [
    "range(5,50,5)"
   ]
  },
  {
   "cell_type": "code",
   "execution_count": 74,
   "id": "ddc978d6-a2a4-49ff-9810-32c2038c265f",
   "metadata": {},
   "outputs": [
    {
     "name": "stdout",
     "output_type": "stream",
     "text": [
      "Data\n",
      "Data\n",
      "Data\n",
      "Data\n",
      "Data\n",
      "Data\n",
      "Data\n",
      "Data\n",
      "Data\n"
     ]
    }
   ],
   "source": [
    "for i in range(5,50,5):\n",
    "    print(\"Data\")"
   ]
  },
  {
   "cell_type": "code",
   "execution_count": 75,
   "id": "8059e4d7-2ae9-41fd-837e-33ca4b8cf2aa",
   "metadata": {},
   "outputs": [
    {
     "name": "stdout",
     "output_type": "stream",
     "text": [
      "Data 5\n",
      "Data 10\n",
      "Data 15\n",
      "Data 20\n",
      "Data 25\n",
      "Data 30\n",
      "Data 35\n",
      "Data 40\n",
      "Data 45\n"
     ]
    }
   ],
   "source": [
    "for i in range(5,50,5):\n",
    "    print(\"Data\",i)"
   ]
  },
  {
   "cell_type": "code",
   "execution_count": 76,
   "id": "4049bd19-11ef-45cc-891e-fd79e76b0b94",
   "metadata": {},
   "outputs": [
    {
     "data": {
      "text/plain": [
       "[5, 87, 23, 46, 62, 84, 80, 45, 77, 33, 80]"
      ]
     },
     "execution_count": 76,
     "metadata": {},
     "output_type": "execute_result"
    }
   ],
   "source": [
    "j=[5,87,23,46,62,84,80,45,77,33,80]\n",
    "j"
   ]
  },
  {
   "cell_type": "code",
   "execution_count": 82,
   "id": "f03d9c46-11bb-4026-ad6b-62210c408a44",
   "metadata": {},
   "outputs": [
    {
     "name": "stdout",
     "output_type": "stream",
     "text": [
      "Even index: [5, 23, 62, 80, 77, 80]\n",
      "Odd index : [87, 46, 84, 45, 33]\n"
     ]
    }
   ],
   "source": [
    "\n",
    "even_index= [j[i] for i in range(len(j)) if i % 2 == 0]\n",
    "odd_index= [j[i] for i in range(len(j)) if i % 2 != 0]\n",
    "print(\"Even index:\", even_index)\n",
    "print(\"Odd index :\", odd_index)\n"
   ]
  },
  {
   "cell_type": "code",
   "execution_count": 84,
   "id": "37871064-4543-4bb6-800e-33e4b26c0499",
   "metadata": {},
   "outputs": [
    {
     "data": {
      "text/plain": [
       "[5, 87, 23, 46, 62, 84, 80, 45, 77, 33, 80]"
      ]
     },
     "execution_count": 84,
     "metadata": {},
     "output_type": "execute_result"
    }
   ],
   "source": [
    "j=[5,87,23,46,62,84,80,45,77,33,80]\n",
    "j"
   ]
  },
  {
   "cell_type": "code",
   "execution_count": 85,
   "id": "6e329f53-ea60-40c7-9d1d-4ccb1125319d",
   "metadata": {},
   "outputs": [],
   "source": [
    "x=[]\n",
    "y=[]\n",
    "for i in range(len(j)):\n",
    "    if i%2==0:\n",
    "        x.append(j[i])\n",
    "    else:\n",
    "        y.append(j[i])"
   ]
  },
  {
   "cell_type": "code",
   "execution_count": 86,
   "id": "b2f89b5d-17dc-4381-afea-070ed0247f3d",
   "metadata": {},
   "outputs": [
    {
     "name": "stdout",
     "output_type": "stream",
     "text": [
      "5\n",
      "87\n",
      "23\n",
      "46\n",
      "62\n",
      "84\n",
      "80\n",
      "45\n",
      "77\n",
      "33\n",
      "80\n"
     ]
    }
   ],
   "source": [
    "for i in j:\n",
    "    print(i)"
   ]
  },
  {
   "cell_type": "code",
   "execution_count": 89,
   "id": "39defe3e-e035-4c99-bef6-896d8552b3ee",
   "metadata": {},
   "outputs": [
    {
     "data": {
      "text/plain": [
       "range(0, 11)"
      ]
     },
     "execution_count": 89,
     "metadata": {},
     "output_type": "execute_result"
    }
   ],
   "source": [
    "range(len(j))"
   ]
  },
  {
   "cell_type": "code",
   "execution_count": 90,
   "id": "92487cc5-7876-46af-b457-7dea9f6f8abe",
   "metadata": {},
   "outputs": [
    {
     "name": "stdout",
     "output_type": "stream",
     "text": [
      "0\n",
      "1\n",
      "2\n",
      "3\n",
      "4\n",
      "5\n",
      "6\n",
      "7\n",
      "8\n",
      "9\n",
      "10\n"
     ]
    }
   ],
   "source": [
    "for i in range(len(j)):\n",
    "    print(i)"
   ]
  },
  {
   "cell_type": "code",
   "execution_count": null,
   "id": "3ec61a29-8491-4597-b3d8-393cb2d81e4d",
   "metadata": {},
   "outputs": [],
   "source": []
  }
 ],
 "metadata": {
  "kernelspec": {
   "display_name": "Python 3 (ipykernel)",
   "language": "python",
   "name": "python3"
  },
  "language_info": {
   "codemirror_mode": {
    "name": "ipython",
    "version": 3
   },
   "file_extension": ".py",
   "mimetype": "text/x-python",
   "name": "python",
   "nbconvert_exporter": "python",
   "pygments_lexer": "ipython3",
   "version": "3.11.4"
  }
 },
 "nbformat": 4,
 "nbformat_minor": 5
}
