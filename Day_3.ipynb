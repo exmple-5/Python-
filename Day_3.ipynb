{
 "cells": [
  {
   "cell_type": "markdown",
   "id": "d6541959",
   "metadata": {},
   "source": [
    "if condition1:\n",
    "    task1 block of code\n",
    "elif condition2:\n",
    "    task2 block of code\n",
    "elif condition3:\n",
    "    task3 block of code\n",
    "else:\n",
    "    task4 block of code\n"
   ]
  },
  {
   "cell_type": "code",
   "execution_count": 1,
   "id": "8b588d66",
   "metadata": {},
   "outputs": [
    {
     "name": "stdout",
     "output_type": "stream",
     "text": [
      "Even\n"
     ]
    }
   ],
   "source": [
    "x=10\n",
    "if x%2==0:\n",
    "    print(\"Even\")\n",
    "else:\n",
    "    print(\"Odd\")"
   ]
  },
  {
   "cell_type": "code",
   "execution_count": 2,
   "id": "765f76ec",
   "metadata": {},
   "outputs": [
    {
     "data": {
      "text/plain": [
       "'vyshu'"
      ]
     },
     "execution_count": 2,
     "metadata": {},
     "output_type": "execute_result"
    }
   ],
   "source": [
    "y='vyshu'\n",
    "y"
   ]
  },
  {
   "cell_type": "code",
   "execution_count": 3,
   "id": "6aaa4b2e",
   "metadata": {},
   "outputs": [
    {
     "data": {
      "text/plain": [
       "True"
      ]
     },
     "execution_count": 3,
     "metadata": {},
     "output_type": "execute_result"
    }
   ],
   "source": [
    "y.isalpha()"
   ]
  },
  {
   "cell_type": "code",
   "execution_count": 4,
   "id": "6045e8d0",
   "metadata": {},
   "outputs": [],
   "source": [
    "name='vyshu 19'"
   ]
  },
  {
   "cell_type": "code",
   "execution_count": 5,
   "id": "ae291859",
   "metadata": {},
   "outputs": [
    {
     "data": {
      "text/plain": [
       "False"
      ]
     },
     "execution_count": 5,
     "metadata": {},
     "output_type": "execute_result"
    }
   ],
   "source": [
    "name.isalpha()"
   ]
  },
  {
   "cell_type": "code",
   "execution_count": 6,
   "id": "3f164668",
   "metadata": {},
   "outputs": [
    {
     "name": "stdout",
     "output_type": "stream",
     "text": [
      "Name should not contain digits and symbols\n"
     ]
    }
   ],
   "source": [
    "if name.isalpha()==True:\n",
    "    print(\"Accept\")\n",
    "else:\n",
    "    print('Name should not contain digits and symbols')"
   ]
  },
  {
   "cell_type": "code",
   "execution_count": 7,
   "id": "b5c73435",
   "metadata": {},
   "outputs": [
    {
     "data": {
      "text/plain": [
       "'mumbai'"
      ]
     },
     "execution_count": 7,
     "metadata": {},
     "output_type": "execute_result"
    }
   ],
   "source": [
    "x='mumbai'\n",
    "x"
   ]
  },
  {
   "cell_type": "code",
   "execution_count": 14,
   "id": "f8b455d1",
   "metadata": {},
   "outputs": [
    {
     "data": {
      "text/plain": [
       "'telangana'"
      ]
     },
     "execution_count": 14,
     "metadata": {},
     "output_type": "execute_result"
    }
   ],
   "source": [
    "x='telangana'\n",
    "x"
   ]
  },
  {
   "cell_type": "code",
   "execution_count": 18,
   "id": "e8b25bd5",
   "metadata": {},
   "outputs": [
    {
     "name": "stdout",
     "output_type": "stream",
     "text": [
      "Yes\n"
     ]
    }
   ],
   "source": [
    "x='Manipur'\n",
    "if x[0].lower()=='m':\n",
    "    print('Yes')\n",
    "else:\n",
    "    print('NO')"
   ]
  },
  {
   "cell_type": "code",
   "execution_count": 16,
   "id": "f0b3bc25",
   "metadata": {},
   "outputs": [
    {
     "data": {
      "text/plain": [
       "True"
      ]
     },
     "execution_count": 16,
     "metadata": {},
     "output_type": "execute_result"
    }
   ],
   "source": [
    "x[0].lower()=='m'"
   ]
  },
  {
   "cell_type": "code",
   "execution_count": 21,
   "id": "074bf521",
   "metadata": {},
   "outputs": [
    {
     "name": "stdout",
     "output_type": "stream",
     "text": [
      "Yes\n"
     ]
    }
   ],
   "source": [
    "x='Hyderabad'\n",
    "if x[0].lower()=='h':\n",
    "    print('Yes')\n",
    "else:\n",
    "    print('NO')"
   ]
  },
  {
   "cell_type": "code",
   "execution_count": 22,
   "id": "8fc6a30a",
   "metadata": {},
   "outputs": [
    {
     "name": "stdout",
     "output_type": "stream",
     "text": [
      "Yes\n"
     ]
    }
   ],
   "source": [
    "x='Goa'\n",
    "if x[0].lower()=='g':\n",
    "    print('Yes')\n",
    "else:\n",
    "    print('NO')"
   ]
  },
  {
   "cell_type": "code",
   "execution_count": 23,
   "id": "8318b358",
   "metadata": {},
   "outputs": [
    {
     "name": "stdout",
     "output_type": "stream",
     "text": [
      "NO\n"
     ]
    }
   ],
   "source": [
    "if x[0].lower() in ('s','h','m'):\n",
    "    print('Yes')\n",
    "else:\n",
    "    print('NO')"
   ]
  },
  {
   "cell_type": "code",
   "execution_count": null,
   "id": "05285160",
   "metadata": {},
   "outputs": [],
   "source": [
    "# # Write a Python program that takes a student's marks in three subjects as input.\n",
    "# •\tIf the average is greater than or equal to 90, print \"Grade: A\".\n",
    "# •\tIf the average is between 80 and 89, print \"Grade: B\".\n",
    "# •\tIf the average is between 70 and 79, print \"Grade: C\".\n",
    "# •\tOtherwise, print \"Grade: Fail\".\n",
    "# \n",
    "\n",
    "# In[4]:\n",
    "\n",
    "\n",
    "sub1 = int(input(\"Enter marks of subject-01 : \" ))\n",
    "sub2 = int(input(\"Enter marks of subject-02 : \" ))\n",
    "sub3 = int(input(\"Enter marks of subject-03 : \" ))\n",
    "avg = (sub1 + sub2 + sub3)/3\n",
    "if avg >= 90:\n",
    "    print(\"Grade: A\")\n",
    "elif 80 <= avg < 90:  \n",
    "    print(\"Grade: B\")\n",
    "elif 70 <= avg < 80:  \n",
    "    print(\"Grade: C\")\n",
    "else :\n",
    "    print(\"Grade : Fail\")"
   ]
  },
  {
   "cell_type": "code",
   "execution_count": null,
   "id": "4652565a",
   "metadata": {},
   "outputs": [],
   "source": []
  }
 ],
 "metadata": {
  "kernelspec": {
   "display_name": "Python 3 (ipykernel)",
   "language": "python",
   "name": "python3"
  },
  "language_info": {
   "codemirror_mode": {
    "name": "ipython",
    "version": 3
   },
   "file_extension": ".py",
   "mimetype": "text/x-python",
   "name": "python",
   "nbconvert_exporter": "python",
   "pygments_lexer": "ipython3",
   "version": "3.11.4"
  }
 },
 "nbformat": 4,
 "nbformat_minor": 5
}
